{
 "cells": [
  {
   "cell_type": "markdown",
   "metadata": {},
   "source": [
    "## Lab 4"
   ]
  },
  {
   "cell_type": "code",
   "execution_count": 1,
   "metadata": {},
   "outputs": [
    {
     "name": "stdout",
     "output_type": "stream",
     "text": [
      "Requirement already satisfied: psycopg2 in c:\\programdata\\anaconda3\\lib\\site-packages (2.8.3)\n"
     ]
    }
   ],
   "source": [
    "!pip install psycopg2"
   ]
  },
  {
   "cell_type": "code",
   "execution_count": 2,
   "metadata": {},
   "outputs": [],
   "source": [
    "import pandas\n",
    "import configparser\n",
    "import psycopg2"
   ]
  },
  {
   "cell_type": "code",
   "execution_count": 3,
   "metadata": {},
   "outputs": [],
   "source": [
    "config = configparser.ConfigParser()\n",
    "config.read('config.ini')\n",
    "\n",
    "host = config['myaws']['host']\n",
    "user = config['myaws']['user']\n",
    "password = config['myaws']['password']\n",
    "database = config['myaws']['database']"
   ]
  },
  {
   "cell_type": "code",
   "execution_count": 4,
   "metadata": {},
   "outputs": [],
   "source": [
    "conn = psycopg2.connect(\n",
    "                       host = host,\n",
    "                       user = user,\n",
    "                       password = password,\n",
    "                       dbname = database\n",
    ")"
   ]
  },
  {
   "cell_type": "code",
   "execution_count": 5,
   "metadata": {},
   "outputs": [],
   "source": [
    "cur = conn.cursor()"
   ]
  },
  {
   "cell_type": "markdown",
   "metadata": {},
   "source": [
    "### Question 1"
   ]
  },
  {
   "cell_type": "code",
   "execution_count": 6,
   "metadata": {},
   "outputs": [],
   "source": [
    "sql_statement = '''\n",
    "                select * from student_gp5\n",
    "                '''"
   ]
  },
  {
   "cell_type": "code",
   "execution_count": 7,
   "metadata": {},
   "outputs": [
    {
     "data": {
      "text/html": [
       "<div>\n",
       "<style scoped>\n",
       "    .dataframe tbody tr th:only-of-type {\n",
       "        vertical-align: middle;\n",
       "    }\n",
       "\n",
       "    .dataframe tbody tr th {\n",
       "        vertical-align: top;\n",
       "    }\n",
       "\n",
       "    .dataframe thead th {\n",
       "        text-align: right;\n",
       "    }\n",
       "</style>\n",
       "<table border=\"1\" class=\"dataframe\">\n",
       "  <thead>\n",
       "    <tr style=\"text-align: right;\">\n",
       "      <th></th>\n",
       "      <th>s_email</th>\n",
       "      <th>s_name</th>\n",
       "      <th>s_major</th>\n",
       "    </tr>\n",
       "  </thead>\n",
       "  <tbody>\n",
       "    <tr>\n",
       "      <th>0</th>\n",
       "      <td>richargk@dukes.jmu.edu                        ...</td>\n",
       "      <td>Gabby Richardson                              ...</td>\n",
       "      <td>Intelligence Analysis                         ...</td>\n",
       "    </tr>\n",
       "    <tr>\n",
       "      <th>1</th>\n",
       "      <td>chandlex@dukes.jmu.edu                        ...</td>\n",
       "      <td>Erica Chandler                                ...</td>\n",
       "      <td>Intelligence Analysis                         ...</td>\n",
       "    </tr>\n",
       "    <tr>\n",
       "      <th>2</th>\n",
       "      <td>turnerfa@dukes.jmu.edu                        ...</td>\n",
       "      <td>Fiona Turner                                  ...</td>\n",
       "      <td>Political Science                             ...</td>\n",
       "    </tr>\n",
       "    <tr>\n",
       "      <th>3</th>\n",
       "      <td>smithav@dukes.jmu.edu                         ...</td>\n",
       "      <td>Aubree Smith                                  ...</td>\n",
       "      <td>Archaeology                                   ...</td>\n",
       "    </tr>\n",
       "    <tr>\n",
       "      <th>4</th>\n",
       "      <td>addaebx@dukes.jmu.edu                         ...</td>\n",
       "      <td>Belinda Addae                                 ...</td>\n",
       "      <td>Religion                                      ...</td>\n",
       "    </tr>\n",
       "  </tbody>\n",
       "</table>\n",
       "</div>"
      ],
      "text/plain": [
       "                                             s_email  \\\n",
       "0  richargk@dukes.jmu.edu                        ...   \n",
       "1  chandlex@dukes.jmu.edu                        ...   \n",
       "2  turnerfa@dukes.jmu.edu                        ...   \n",
       "3  smithav@dukes.jmu.edu                         ...   \n",
       "4  addaebx@dukes.jmu.edu                         ...   \n",
       "\n",
       "                                              s_name  \\\n",
       "0  Gabby Richardson                              ...   \n",
       "1  Erica Chandler                                ...   \n",
       "2  Fiona Turner                                  ...   \n",
       "3  Aubree Smith                                  ...   \n",
       "4  Belinda Addae                                 ...   \n",
       "\n",
       "                                             s_major  \n",
       "0  Intelligence Analysis                         ...  \n",
       "1  Intelligence Analysis                         ...  \n",
       "2  Political Science                             ...  \n",
       "3  Archaeology                                   ...  \n",
       "4  Religion                                      ...  "
      ]
     },
     "execution_count": 7,
     "metadata": {},
     "output_type": "execute_result"
    }
   ],
   "source": [
    "df = pandas.read_sql_query(sql_statement,conn)\n",
    "df [:]"
   ]
  },
  {
   "cell_type": "markdown",
   "metadata": {},
   "source": [
    "### Question 2"
   ]
  },
  {
   "cell_type": "code",
   "execution_count": 8,
   "metadata": {},
   "outputs": [],
   "source": [
    "sql_statement2 = '''\n",
    "                select \n",
    "                c_name, count(s_email)\n",
    "                from enroll_gp5\n",
    "                \n",
    "                group by c_name\n",
    "                order by count(s_email) desc\n",
    "                limit 1\n",
    "                '''"
   ]
  },
  {
   "cell_type": "code",
   "execution_count": 9,
   "metadata": {},
   "outputs": [
    {
     "data": {
      "text/html": [
       "<div>\n",
       "<style scoped>\n",
       "    .dataframe tbody tr th:only-of-type {\n",
       "        vertical-align: middle;\n",
       "    }\n",
       "\n",
       "    .dataframe tbody tr th {\n",
       "        vertical-align: top;\n",
       "    }\n",
       "\n",
       "    .dataframe thead th {\n",
       "        text-align: right;\n",
       "    }\n",
       "</style>\n",
       "<table border=\"1\" class=\"dataframe\">\n",
       "  <thead>\n",
       "    <tr style=\"text-align: right;\">\n",
       "      <th></th>\n",
       "      <th>c_name</th>\n",
       "      <th>count</th>\n",
       "    </tr>\n",
       "  </thead>\n",
       "  <tbody>\n",
       "    <tr>\n",
       "      <th>0</th>\n",
       "      <td>IA 200                                        ...</td>\n",
       "      <td>2</td>\n",
       "    </tr>\n",
       "  </tbody>\n",
       "</table>\n",
       "</div>"
      ],
      "text/plain": [
       "                                              c_name  count\n",
       "0  IA 200                                        ...      2"
      ]
     },
     "execution_count": 9,
     "metadata": {},
     "output_type": "execute_result"
    }
   ],
   "source": [
    "df = pandas.read_sql_query(sql_statement2,conn)\n",
    "df [:]"
   ]
  },
  {
   "cell_type": "markdown",
   "metadata": {},
   "source": [
    "### Question 3"
   ]
  },
  {
   "cell_type": "code",
   "execution_count": 10,
   "metadata": {},
   "outputs": [],
   "source": [
    "sql_statement3 = '''\n",
    "                select *\n",
    "                from teacher_gp5\n",
    "                inner join course_gp5\n",
    "                on teacher_gp5.email = course_gp5.t_email\n",
    "                '''"
   ]
  },
  {
   "cell_type": "code",
   "execution_count": 11,
   "metadata": {},
   "outputs": [
    {
     "data": {
      "text/html": [
       "<div>\n",
       "<style scoped>\n",
       "    .dataframe tbody tr th:only-of-type {\n",
       "        vertical-align: middle;\n",
       "    }\n",
       "\n",
       "    .dataframe tbody tr th {\n",
       "        vertical-align: top;\n",
       "    }\n",
       "\n",
       "    .dataframe thead th {\n",
       "        text-align: right;\n",
       "    }\n",
       "</style>\n",
       "<table border=\"1\" class=\"dataframe\">\n",
       "  <thead>\n",
       "    <tr style=\"text-align: right;\">\n",
       "      <th></th>\n",
       "      <th>email</th>\n",
       "      <th>name</th>\n",
       "      <th>office</th>\n",
       "      <th>name</th>\n",
       "      <th>room</th>\n",
       "      <th>t_email</th>\n",
       "    </tr>\n",
       "  </thead>\n",
       "  <tbody>\n",
       "    <tr>\n",
       "      <th>0</th>\n",
       "      <td>moore8ka@jmu.edu</td>\n",
       "      <td>Kathleen Moore                                ...</td>\n",
       "      <td>ISAT 116</td>\n",
       "      <td>IA 240                                        ...</td>\n",
       "      <td>EnGeo 1202</td>\n",
       "      <td>moore8ka@jmu.edu</td>\n",
       "    </tr>\n",
       "    <tr>\n",
       "      <th>1</th>\n",
       "      <td>hendrinx@jmu.edu</td>\n",
       "      <td>Noel Hendrickson                              ...</td>\n",
       "      <td>ISAT 300</td>\n",
       "      <td>IA 261                                        ...</td>\n",
       "      <td>ISAT 315</td>\n",
       "      <td>hendrinx@jmu.edu</td>\n",
       "    </tr>\n",
       "    <tr>\n",
       "      <th>2</th>\n",
       "      <td>taoqx@jmu.edu</td>\n",
       "      <td>Qingjiu Tao                                   ...</td>\n",
       "      <td>EnGeo 2107</td>\n",
       "      <td>IA 210                                        ...</td>\n",
       "      <td>ISAT 125</td>\n",
       "      <td>taoqx@jmu.edu</td>\n",
       "    </tr>\n",
       "    <tr>\n",
       "      <th>3</th>\n",
       "      <td>hendrinx@jmu.edu</td>\n",
       "      <td>Noel Hendrickson                              ...</td>\n",
       "      <td>ISAT 300</td>\n",
       "      <td>IA 400                                        ...</td>\n",
       "      <td>EnGeo 360</td>\n",
       "      <td>hendrinx@jmu.edu</td>\n",
       "    </tr>\n",
       "    <tr>\n",
       "      <th>4</th>\n",
       "      <td>taude@jmu.edu</td>\n",
       "      <td>Finda Tuade                                   ...</td>\n",
       "      <td>EnGeo 2017</td>\n",
       "      <td>IA 420                                        ...</td>\n",
       "      <td>EnGeo 360</td>\n",
       "      <td>taude@jmu.edu</td>\n",
       "    </tr>\n",
       "    <tr>\n",
       "      <th>5</th>\n",
       "      <td>taude@jmu.edu</td>\n",
       "      <td>Finda Tuade                                   ...</td>\n",
       "      <td>EnGeo 2017</td>\n",
       "      <td>IA 200                                        ...</td>\n",
       "      <td>EnGeo 1204</td>\n",
       "      <td>taude@jmu.edu</td>\n",
       "    </tr>\n",
       "    <tr>\n",
       "      <th>6</th>\n",
       "      <td>adner@jmu.edu</td>\n",
       "      <td>Belna Adner                                   ...</td>\n",
       "      <td>EnGeo 2020</td>\n",
       "      <td>IA 241                                        ...</td>\n",
       "      <td>EnGeo 2130</td>\n",
       "      <td>adner@jmu.edu</td>\n",
       "    </tr>\n",
       "  </tbody>\n",
       "</table>\n",
       "</div>"
      ],
      "text/plain": [
       "              email                                               name  \\\n",
       "0  moore8ka@jmu.edu  Kathleen Moore                                ...   \n",
       "1  hendrinx@jmu.edu  Noel Hendrickson                              ...   \n",
       "2     taoqx@jmu.edu  Qingjiu Tao                                   ...   \n",
       "3  hendrinx@jmu.edu  Noel Hendrickson                              ...   \n",
       "4     taude@jmu.edu  Finda Tuade                                   ...   \n",
       "5     taude@jmu.edu  Finda Tuade                                   ...   \n",
       "6     adner@jmu.edu  Belna Adner                                   ...   \n",
       "\n",
       "                 office                                               name  \\\n",
       "0  ISAT 116              IA 240                                        ...   \n",
       "1  ISAT 300              IA 261                                        ...   \n",
       "2  EnGeo 2107            IA 210                                        ...   \n",
       "3  ISAT 300              IA 400                                        ...   \n",
       "4  EnGeo 2017            IA 420                                        ...   \n",
       "5  EnGeo 2017            IA 200                                        ...   \n",
       "6  EnGeo 2020            IA 241                                        ...   \n",
       "\n",
       "                   room           t_email  \n",
       "0  EnGeo 1202            moore8ka@jmu.edu  \n",
       "1  ISAT 315              hendrinx@jmu.edu  \n",
       "2  ISAT 125                 taoqx@jmu.edu  \n",
       "3  EnGeo 360             hendrinx@jmu.edu  \n",
       "4  EnGeo 360                taude@jmu.edu  \n",
       "5  EnGeo 1204               taude@jmu.edu  \n",
       "6  EnGeo 2130               adner@jmu.edu  "
      ]
     },
     "execution_count": 11,
     "metadata": {},
     "output_type": "execute_result"
    }
   ],
   "source": [
    "df = pandas.read_sql_query(sql_statement3,conn)\n",
    "df [:]"
   ]
  },
  {
   "cell_type": "markdown",
   "metadata": {},
   "source": [
    "### Question 4"
   ]
  },
  {
   "cell_type": "code",
   "execution_count": 38,
   "metadata": {},
   "outputs": [],
   "source": [
    "sql_statement4 = '''\n",
    "                select teacher_gp5.name as t_name,\n",
    "                count(course_gp5.name) as course_num\n",
    "                from teacher_gp5\n",
    "                inner join course_gp5\n",
    "                on teacher_gp5.email = course_gp5.t_email\n",
    "                group by teacher_gp5.name\n",
    "                \n",
    "                order by course_num desc\n",
    "                limit 1\n",
    "                '''"
   ]
  },
  {
   "cell_type": "code",
   "execution_count": 39,
   "metadata": {},
   "outputs": [
    {
     "data": {
      "text/html": [
       "<div>\n",
       "<style scoped>\n",
       "    .dataframe tbody tr th:only-of-type {\n",
       "        vertical-align: middle;\n",
       "    }\n",
       "\n",
       "    .dataframe tbody tr th {\n",
       "        vertical-align: top;\n",
       "    }\n",
       "\n",
       "    .dataframe thead th {\n",
       "        text-align: right;\n",
       "    }\n",
       "</style>\n",
       "<table border=\"1\" class=\"dataframe\">\n",
       "  <thead>\n",
       "    <tr style=\"text-align: right;\">\n",
       "      <th></th>\n",
       "      <th>t_name</th>\n",
       "      <th>course_num</th>\n",
       "    </tr>\n",
       "  </thead>\n",
       "  <tbody>\n",
       "    <tr>\n",
       "      <th>0</th>\n",
       "      <td>Finda Tuade                                   ...</td>\n",
       "      <td>2</td>\n",
       "    </tr>\n",
       "  </tbody>\n",
       "</table>\n",
       "</div>"
      ],
      "text/plain": [
       "                                              t_name  course_num\n",
       "0  Finda Tuade                                   ...           2"
      ]
     },
     "execution_count": 39,
     "metadata": {},
     "output_type": "execute_result"
    }
   ],
   "source": [
    "df = pandas.read_sql_query(sql_statement4,conn)\n",
    "df [:]"
   ]
  },
  {
   "cell_type": "markdown",
   "metadata": {},
   "source": [
    "### Question 5"
   ]
  },
  {
   "cell_type": "code",
   "execution_count": 14,
   "metadata": {},
   "outputs": [
    {
     "name": "stdout",
     "output_type": "stream",
     "text": [
      "\n",
      "                insert into teacher_gp5 (email,name,office)\n",
      "                values('adner@jmu.edu','Belna Adner','EnGeo 2020')\n",
      "                \n"
     ]
    }
   ],
   "source": [
    "sql_insert_statement = '''\n",
    "                insert into teacher_gp5 (email,name,office)\n",
    "                values('{}','{}','{}')\n",
    "                '''.format('adner@jmu.edu','Belna Adner','EnGeo 2020')\n",
    "print(sql_insert_statement)"
   ]
  },
  {
   "cell_type": "code",
   "execution_count": 15,
   "metadata": {},
   "outputs": [],
   "source": [
    "# cur.execute(sql_insert_statement)"
   ]
  },
  {
   "cell_type": "code",
   "execution_count": 16,
   "metadata": {},
   "outputs": [],
   "source": [
    "conn.commit()"
   ]
  },
  {
   "cell_type": "code",
   "execution_count": 17,
   "metadata": {},
   "outputs": [
    {
     "data": {
      "text/html": [
       "<div>\n",
       "<style scoped>\n",
       "    .dataframe tbody tr th:only-of-type {\n",
       "        vertical-align: middle;\n",
       "    }\n",
       "\n",
       "    .dataframe tbody tr th {\n",
       "        vertical-align: top;\n",
       "    }\n",
       "\n",
       "    .dataframe thead th {\n",
       "        text-align: right;\n",
       "    }\n",
       "</style>\n",
       "<table border=\"1\" class=\"dataframe\">\n",
       "  <thead>\n",
       "    <tr style=\"text-align: right;\">\n",
       "      <th></th>\n",
       "      <th>email</th>\n",
       "      <th>name</th>\n",
       "      <th>office</th>\n",
       "    </tr>\n",
       "  </thead>\n",
       "  <tbody>\n",
       "    <tr>\n",
       "      <th>0</th>\n",
       "      <td>moore8ka@jmu.edu</td>\n",
       "      <td>Kathleen Moore                                ...</td>\n",
       "      <td>ISAT 116</td>\n",
       "    </tr>\n",
       "    <tr>\n",
       "      <th>1</th>\n",
       "      <td>hendrinx@jmu.edu</td>\n",
       "      <td>Noel Hendrickson                              ...</td>\n",
       "      <td>ISAT 300</td>\n",
       "    </tr>\n",
       "    <tr>\n",
       "      <th>2</th>\n",
       "      <td>weixx@jmu.edu</td>\n",
       "      <td>Xuebin Wei                                    ...</td>\n",
       "      <td>ISAT 112</td>\n",
       "    </tr>\n",
       "    <tr>\n",
       "      <th>3</th>\n",
       "      <td>taoqx@jmu.edu</td>\n",
       "      <td>Qingjiu Tao                                   ...</td>\n",
       "      <td>EnGeo 2107</td>\n",
       "    </tr>\n",
       "    <tr>\n",
       "      <th>4</th>\n",
       "      <td>taude@jmu.edu</td>\n",
       "      <td>Finda Tuade                                   ...</td>\n",
       "      <td>EnGeo 2017</td>\n",
       "    </tr>\n",
       "    <tr>\n",
       "      <th>5</th>\n",
       "      <td>adner@jmu.edu</td>\n",
       "      <td>Belna Adner                                   ...</td>\n",
       "      <td>EnGeo 2020</td>\n",
       "    </tr>\n",
       "  </tbody>\n",
       "</table>\n",
       "</div>"
      ],
      "text/plain": [
       "              email                                               name  \\\n",
       "0  moore8ka@jmu.edu  Kathleen Moore                                ...   \n",
       "1  hendrinx@jmu.edu  Noel Hendrickson                              ...   \n",
       "2     weixx@jmu.edu  Xuebin Wei                                    ...   \n",
       "3     taoqx@jmu.edu  Qingjiu Tao                                   ...   \n",
       "4     taude@jmu.edu  Finda Tuade                                   ...   \n",
       "5     adner@jmu.edu  Belna Adner                                   ...   \n",
       "\n",
       "                 office  \n",
       "0  ISAT 116              \n",
       "1  ISAT 300              \n",
       "2  ISAT 112              \n",
       "3  EnGeo 2107            \n",
       "4  EnGeo 2017            \n",
       "5  EnGeo 2020            "
      ]
     },
     "execution_count": 17,
     "metadata": {},
     "output_type": "execute_result"
    }
   ],
   "source": [
    "df = pandas.read_sql_query(\"select * from teacher_gp5\",conn)\n",
    "df [:]"
   ]
  },
  {
   "cell_type": "code",
   "execution_count": 18,
   "metadata": {},
   "outputs": [
    {
     "name": "stdout",
     "output_type": "stream",
     "text": [
      "\n",
      "                insert into course_gp5 (name,room,t_email)\n",
      "                values('IA 420','EnGeo 3001','adner@jmu.edu')\n",
      "                \n"
     ]
    }
   ],
   "source": [
    "sql_insert_statement = '''\n",
    "                insert into course_gp5 (name,room,t_email)\n",
    "                values('{}','{}','{}')\n",
    "                '''.format('IA 420','EnGeo 3001','adner@jmu.edu')\n",
    "print(sql_insert_statement)"
   ]
  },
  {
   "cell_type": "code",
   "execution_count": 19,
   "metadata": {},
   "outputs": [],
   "source": [
    "# cur.execute(sql_insert_statement)"
   ]
  },
  {
   "cell_type": "code",
   "execution_count": 20,
   "metadata": {},
   "outputs": [],
   "source": [
    "conn.commit()"
   ]
  },
  {
   "cell_type": "code",
   "execution_count": 21,
   "metadata": {},
   "outputs": [
    {
     "data": {
      "text/html": [
       "<div>\n",
       "<style scoped>\n",
       "    .dataframe tbody tr th:only-of-type {\n",
       "        vertical-align: middle;\n",
       "    }\n",
       "\n",
       "    .dataframe tbody tr th {\n",
       "        vertical-align: top;\n",
       "    }\n",
       "\n",
       "    .dataframe thead th {\n",
       "        text-align: right;\n",
       "    }\n",
       "</style>\n",
       "<table border=\"1\" class=\"dataframe\">\n",
       "  <thead>\n",
       "    <tr style=\"text-align: right;\">\n",
       "      <th></th>\n",
       "      <th>email</th>\n",
       "      <th>name</th>\n",
       "      <th>office</th>\n",
       "    </tr>\n",
       "  </thead>\n",
       "  <tbody>\n",
       "    <tr>\n",
       "      <th>0</th>\n",
       "      <td>moore8ka@jmu.edu</td>\n",
       "      <td>Kathleen Moore                                ...</td>\n",
       "      <td>ISAT 116</td>\n",
       "    </tr>\n",
       "    <tr>\n",
       "      <th>1</th>\n",
       "      <td>hendrinx@jmu.edu</td>\n",
       "      <td>Noel Hendrickson                              ...</td>\n",
       "      <td>ISAT 300</td>\n",
       "    </tr>\n",
       "    <tr>\n",
       "      <th>2</th>\n",
       "      <td>weixx@jmu.edu</td>\n",
       "      <td>Xuebin Wei                                    ...</td>\n",
       "      <td>ISAT 112</td>\n",
       "    </tr>\n",
       "    <tr>\n",
       "      <th>3</th>\n",
       "      <td>taoqx@jmu.edu</td>\n",
       "      <td>Qingjiu Tao                                   ...</td>\n",
       "      <td>EnGeo 2107</td>\n",
       "    </tr>\n",
       "    <tr>\n",
       "      <th>4</th>\n",
       "      <td>taude@jmu.edu</td>\n",
       "      <td>Finda Tuade                                   ...</td>\n",
       "      <td>EnGeo 2017</td>\n",
       "    </tr>\n",
       "    <tr>\n",
       "      <th>5</th>\n",
       "      <td>adner@jmu.edu</td>\n",
       "      <td>Belna Adner                                   ...</td>\n",
       "      <td>EnGeo 2020</td>\n",
       "    </tr>\n",
       "  </tbody>\n",
       "</table>\n",
       "</div>"
      ],
      "text/plain": [
       "              email                                               name  \\\n",
       "0  moore8ka@jmu.edu  Kathleen Moore                                ...   \n",
       "1  hendrinx@jmu.edu  Noel Hendrickson                              ...   \n",
       "2     weixx@jmu.edu  Xuebin Wei                                    ...   \n",
       "3     taoqx@jmu.edu  Qingjiu Tao                                   ...   \n",
       "4     taude@jmu.edu  Finda Tuade                                   ...   \n",
       "5     adner@jmu.edu  Belna Adner                                   ...   \n",
       "\n",
       "                 office  \n",
       "0  ISAT 116              \n",
       "1  ISAT 300              \n",
       "2  ISAT 112              \n",
       "3  EnGeo 2107            \n",
       "4  EnGeo 2017            \n",
       "5  EnGeo 2020            "
      ]
     },
     "execution_count": 21,
     "metadata": {},
     "output_type": "execute_result"
    }
   ],
   "source": [
    "df = pandas.read_sql_query(\"select * from teacher_gp5\",conn)\n",
    "df [:]"
   ]
  },
  {
   "cell_type": "markdown",
   "metadata": {},
   "source": [
    "### Question 6"
   ]
  },
  {
   "cell_type": "code",
   "execution_count": 24,
   "metadata": {},
   "outputs": [
    {
     "name": "stdout",
     "output_type": "stream",
     "text": [
      "\n",
      "                update course_gp5\n",
      "                set t_email = 'adner@jmu.edu'\n",
      "                where t_email = 'weixx@jmu.edu'\n",
      "                \n"
     ]
    }
   ],
   "source": [
    "sql_insert_statement = '''\n",
    "                update course_gp5\n",
    "                set t_email = '{}'\n",
    "                where t_email = '{}'\n",
    "                '''.format('adner@jmu.edu','weixx@jmu.edu')\n",
    "print(sql_insert_statement)"
   ]
  },
  {
   "cell_type": "code",
   "execution_count": 25,
   "metadata": {},
   "outputs": [],
   "source": [
    "cur.execute(sql_insert_statement)"
   ]
  },
  {
   "cell_type": "code",
   "execution_count": 26,
   "metadata": {},
   "outputs": [],
   "source": [
    "conn.commit()"
   ]
  },
  {
   "cell_type": "code",
   "execution_count": 27,
   "metadata": {},
   "outputs": [
    {
     "data": {
      "text/html": [
       "<div>\n",
       "<style scoped>\n",
       "    .dataframe tbody tr th:only-of-type {\n",
       "        vertical-align: middle;\n",
       "    }\n",
       "\n",
       "    .dataframe tbody tr th {\n",
       "        vertical-align: top;\n",
       "    }\n",
       "\n",
       "    .dataframe thead th {\n",
       "        text-align: right;\n",
       "    }\n",
       "</style>\n",
       "<table border=\"1\" class=\"dataframe\">\n",
       "  <thead>\n",
       "    <tr style=\"text-align: right;\">\n",
       "      <th></th>\n",
       "      <th>name</th>\n",
       "      <th>room</th>\n",
       "      <th>t_email</th>\n",
       "    </tr>\n",
       "  </thead>\n",
       "  <tbody>\n",
       "    <tr>\n",
       "      <th>0</th>\n",
       "      <td>IA 240                                        ...</td>\n",
       "      <td>EnGeo 1202</td>\n",
       "      <td>moore8ka@jmu.edu</td>\n",
       "    </tr>\n",
       "    <tr>\n",
       "      <th>1</th>\n",
       "      <td>IA 261                                        ...</td>\n",
       "      <td>ISAT 315</td>\n",
       "      <td>hendrinx@jmu.edu</td>\n",
       "    </tr>\n",
       "    <tr>\n",
       "      <th>2</th>\n",
       "      <td>IA 210                                        ...</td>\n",
       "      <td>ISAT 125</td>\n",
       "      <td>taoqx@jmu.edu</td>\n",
       "    </tr>\n",
       "    <tr>\n",
       "      <th>3</th>\n",
       "      <td>IA 400                                        ...</td>\n",
       "      <td>EnGeo 360</td>\n",
       "      <td>hendrinx@jmu.edu</td>\n",
       "    </tr>\n",
       "    <tr>\n",
       "      <th>4</th>\n",
       "      <td>IA 420                                        ...</td>\n",
       "      <td>EnGeo 360</td>\n",
       "      <td>taude@jmu.edu</td>\n",
       "    </tr>\n",
       "    <tr>\n",
       "      <th>5</th>\n",
       "      <td>IA 200                                        ...</td>\n",
       "      <td>EnGeo 1204</td>\n",
       "      <td>taude@jmu.edu</td>\n",
       "    </tr>\n",
       "    <tr>\n",
       "      <th>6</th>\n",
       "      <td>IA 241                                        ...</td>\n",
       "      <td>EnGeo 2130</td>\n",
       "      <td>adner@jmu.edu</td>\n",
       "    </tr>\n",
       "  </tbody>\n",
       "</table>\n",
       "</div>"
      ],
      "text/plain": [
       "                                                name                  room  \\\n",
       "0  IA 240                                        ...  EnGeo 1202             \n",
       "1  IA 261                                        ...  ISAT 315               \n",
       "2  IA 210                                        ...  ISAT 125               \n",
       "3  IA 400                                        ...  EnGeo 360              \n",
       "4  IA 420                                        ...  EnGeo 360              \n",
       "5  IA 200                                        ...  EnGeo 1204             \n",
       "6  IA 241                                        ...  EnGeo 2130             \n",
       "\n",
       "            t_email  \n",
       "0  moore8ka@jmu.edu  \n",
       "1  hendrinx@jmu.edu  \n",
       "2     taoqx@jmu.edu  \n",
       "3  hendrinx@jmu.edu  \n",
       "4     taude@jmu.edu  \n",
       "5     taude@jmu.edu  \n",
       "6     adner@jmu.edu  "
      ]
     },
     "execution_count": 27,
     "metadata": {},
     "output_type": "execute_result"
    }
   ],
   "source": [
    "df = pandas.read_sql_query(\"select * from course_gp5\",conn)\n",
    "df [:]"
   ]
  },
  {
   "cell_type": "markdown",
   "metadata": {},
   "source": [
    "#### Deleting Wei from teacher table"
   ]
  },
  {
   "cell_type": "code",
   "execution_count": 28,
   "metadata": {},
   "outputs": [
    {
     "name": "stdout",
     "output_type": "stream",
     "text": [
      "\n",
      "                delete from teacher_gp5.email\n",
      "                where t_email = 'weixx@jmu.edu'\n",
      "                \n"
     ]
    }
   ],
   "source": [
    "sql_insert_statement = '''\n",
    "                delete from teacher_gp5.email\n",
    "                where t_email = '{}'\n",
    "                '''.format('weixx@jmu.edu')\n",
    "print(sql_insert_statement)"
   ]
  },
  {
   "cell_type": "code",
   "execution_count": 40,
   "metadata": {},
   "outputs": [],
   "source": [
    "#cur.execute(sql_insert_statement)"
   ]
  },
  {
   "cell_type": "code",
   "execution_count": 30,
   "metadata": {},
   "outputs": [],
   "source": [
    "conn.commit()"
   ]
  },
  {
   "cell_type": "code",
   "execution_count": 31,
   "metadata": {},
   "outputs": [
    {
     "data": {
      "text/html": [
       "<div>\n",
       "<style scoped>\n",
       "    .dataframe tbody tr th:only-of-type {\n",
       "        vertical-align: middle;\n",
       "    }\n",
       "\n",
       "    .dataframe tbody tr th {\n",
       "        vertical-align: top;\n",
       "    }\n",
       "\n",
       "    .dataframe thead th {\n",
       "        text-align: right;\n",
       "    }\n",
       "</style>\n",
       "<table border=\"1\" class=\"dataframe\">\n",
       "  <thead>\n",
       "    <tr style=\"text-align: right;\">\n",
       "      <th></th>\n",
       "      <th>name</th>\n",
       "      <th>room</th>\n",
       "      <th>t_email</th>\n",
       "    </tr>\n",
       "  </thead>\n",
       "  <tbody>\n",
       "    <tr>\n",
       "      <th>0</th>\n",
       "      <td>IA 240                                        ...</td>\n",
       "      <td>EnGeo 1202</td>\n",
       "      <td>moore8ka@jmu.edu</td>\n",
       "    </tr>\n",
       "    <tr>\n",
       "      <th>1</th>\n",
       "      <td>IA 261                                        ...</td>\n",
       "      <td>ISAT 315</td>\n",
       "      <td>hendrinx@jmu.edu</td>\n",
       "    </tr>\n",
       "    <tr>\n",
       "      <th>2</th>\n",
       "      <td>IA 210                                        ...</td>\n",
       "      <td>ISAT 125</td>\n",
       "      <td>taoqx@jmu.edu</td>\n",
       "    </tr>\n",
       "    <tr>\n",
       "      <th>3</th>\n",
       "      <td>IA 400                                        ...</td>\n",
       "      <td>EnGeo 360</td>\n",
       "      <td>hendrinx@jmu.edu</td>\n",
       "    </tr>\n",
       "    <tr>\n",
       "      <th>4</th>\n",
       "      <td>IA 420                                        ...</td>\n",
       "      <td>EnGeo 360</td>\n",
       "      <td>taude@jmu.edu</td>\n",
       "    </tr>\n",
       "    <tr>\n",
       "      <th>5</th>\n",
       "      <td>IA 200                                        ...</td>\n",
       "      <td>EnGeo 1204</td>\n",
       "      <td>taude@jmu.edu</td>\n",
       "    </tr>\n",
       "    <tr>\n",
       "      <th>6</th>\n",
       "      <td>IA 241                                        ...</td>\n",
       "      <td>EnGeo 2130</td>\n",
       "      <td>adner@jmu.edu</td>\n",
       "    </tr>\n",
       "  </tbody>\n",
       "</table>\n",
       "</div>"
      ],
      "text/plain": [
       "                                                name                  room  \\\n",
       "0  IA 240                                        ...  EnGeo 1202             \n",
       "1  IA 261                                        ...  ISAT 315               \n",
       "2  IA 210                                        ...  ISAT 125               \n",
       "3  IA 400                                        ...  EnGeo 360              \n",
       "4  IA 420                                        ...  EnGeo 360              \n",
       "5  IA 200                                        ...  EnGeo 1204             \n",
       "6  IA 241                                        ...  EnGeo 2130             \n",
       "\n",
       "            t_email  \n",
       "0  moore8ka@jmu.edu  \n",
       "1  hendrinx@jmu.edu  \n",
       "2     taoqx@jmu.edu  \n",
       "3  hendrinx@jmu.edu  \n",
       "4     taude@jmu.edu  \n",
       "5     taude@jmu.edu  \n",
       "6     adner@jmu.edu  "
      ]
     },
     "execution_count": 31,
     "metadata": {},
     "output_type": "execute_result"
    }
   ],
   "source": [
    "df = pandas.read_sql_query(\"select * from course_gp5\",conn)\n",
    "df [:]"
   ]
  }
 ],
 "metadata": {
  "kernelspec": {
   "display_name": "Python 3",
   "language": "python",
   "name": "python3"
  },
  "language_info": {
   "codemirror_mode": {
    "name": "ipython",
    "version": 3
   },
   "file_extension": ".py",
   "mimetype": "text/x-python",
   "name": "python",
   "nbconvert_exporter": "python",
   "pygments_lexer": "ipython3",
   "version": "3.6.5"
  }
 },
 "nbformat": 4,
 "nbformat_minor": 2
}
