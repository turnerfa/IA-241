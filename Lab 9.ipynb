{
 "cells": [
  {
   "cell_type": "markdown",
   "metadata": {},
   "source": [
    "# Step 1"
   ]
  },
  {
   "cell_type": "code",
   "execution_count": 16,
   "metadata": {},
   "outputs": [
    {
     "name": "stdout",
     "output_type": "stream",
     "text": [
      "[159900.0, 1100000.0, 182000.0, 169900.0, 148500.0, 444900.0, 178000.0, 209000.0, 349900.0, 1100000.0, 239000.0, 149900.0, 294900.0, 625000.0, 309900.0, 179900.0, 339900.0, 134900.0, 359000.0, 529900.0, 149900.0, 394000.0, 229900.0, 439000.0, 146900.0, 174900.0, 445000.0, 659000.0, 429000.0, 429000.0]\n",
      "[1.0, 1.0, 2.0, 1.0, 1.0, 6.0, 2.0, 2.0, 2.0, 2.0, 3.0, 2.0, 2.0, 6.0, 3.0, 2.0, 3.0, 2.0, 4.0, 5.0, 3.0, 2.0, 2.0, 4.0, 3.0, 3.0, 4.0, 4.0, 5.0, 4.0]\n",
      "[' single-family home', ' single-family home', ' condo', ' single-family home', ' single-family home', ' single-family home', ' single-family home', ' single-family home', ' single-family home', ' single-family home', ' single-family home', ' single-family home', ' single-family home', ' single-family home', ' single-family home', ' single-family home', ' single-family home', ' townhouse', ' single-family home', ' single-family home', ' townhouse', ' single-family home', ' single-family home', ' single-family home', ' condo', ' single-family home', ' single-family home', ' single-family home', ' single-family home', ' single-family home']\n",
      "[5662.0, 4138200.0, 7405.0, 36155.0, 9147.0, 28314.0, 11326.0, 9147.0, 204732.0, 4356000.0, 12197.0, 8712.0, 30928.0, 14810.0, 15246.0, 13068.0, 14375.0, 2300.0, 10130.0, 19166.0, 2291.0, 18295.0, 10018.0, 18731.0, 2178.0, 2469.0, 21780.0, 21780.0, 7405.0, 22651.0]\n",
      "[1924.0, 1932.0, 1945.0, 1950.0, 1959.0, 1961.0, 1964.0, 1966.0, 1967.0, 1970.0, 1972.0, 1975.0, 1978.0, 1985.0, 1986.0, 1988.0, 1993.0, 1994.0, 1997.0, 1998.0, 1999.0, 2001.0, 2002.0, 2005.0, 2006.0, 2007.0, 2010.0, 2014.0, 2017.0, 2018.0]\n",
      "[1584.0, 900.0, 1622.0, 1556.0, 1000.0, 5201.0, 1188.0, 1918.0, 3850.0, 2541.0, 2210.0, 1810.0, 3150.0, 5299.0, 2136.0, 1237.0, 2003.0, 920.0, 2903.0, 5202.0, 1440.0, 2616.0, 1541.0, 3819.0, 1276.0, 1344.0, 3504.0, 5156.0, 2799.0, 3145.0]\n"
     ]
    }
   ],
   "source": [
    "import xlrd\n",
    "book = xlrd.open_workbook('house_price.xls')\n",
    "my_sheet = book.sheet_by_name(\"price\")\n",
    "price_list = []\n",
    "bath_list = []\n",
    "htype_list =[]\n",
    "lot_size_list=[]\n",
    "year_list=[]\n",
    "area_list=[]\n",
    "\n",
    "for i in range(my_sheet.nrows):\n",
    "    price,bathroom,htype,lot_size,year,area = my_sheet.row_values(i) \n",
    "    if i !=0:\n",
    "        (price,bathroom,htype,lot_size,year,area)\n",
    "        price_list.append(price)\n",
    "        bath_list.append(bathroom)\n",
    "        htype_list.append(htype)\n",
    "        lot_size_list.append(lot_size)\n",
    "        year_list.append(year)\n",
    "        area_list.append(area)\n",
    "print (price_list)\n",
    "print(bath_list)\n",
    "print(htype_list)\n",
    "print(lot_size_list)\n",
    "print(year_list)\n",
    "print(area_list)"
   ]
  },
  {
   "cell_type": "markdown",
   "metadata": {},
   "source": [
    "# Step 2"
   ]
  },
  {
   "cell_type": "markdown",
   "metadata": {},
   "source": [
    "#### mean"
   ]
  },
  {
   "cell_type": "code",
   "execution_count": 17,
   "metadata": {},
   "outputs": [
    {
     "name": "stdout",
     "output_type": "stream",
     "text": [
      "the mean is 356700.0\n"
     ]
    }
   ],
   "source": [
    "import numpy as np\n",
    "print(\"the mean is {}\".format(np.mean(price_list)))"
   ]
  },
  {
   "cell_type": "markdown",
   "metadata": {},
   "source": [
    "#### median"
   ]
  },
  {
   "cell_type": "code",
   "execution_count": 18,
   "metadata": {},
   "outputs": [
    {
     "name": "stdout",
     "output_type": "stream",
     "text": [
      "the median is 302400.0\n"
     ]
    }
   ],
   "source": [
    "print(\"the median is {}\".format(np.median(price_list)))"
   ]
  },
  {
   "cell_type": "markdown",
   "metadata": {},
   "source": [
    "#### standard deviation"
   ]
  },
  {
   "cell_type": "code",
   "execution_count": 19,
   "metadata": {},
   "outputs": [
    {
     "name": "stdout",
     "output_type": "stream",
     "text": [
      "the standard deviation is 245840.21233313315\n"
     ]
    }
   ],
   "source": [
    "print(\"the standard deviation is {}\".format(np.std(price_list)))"
   ]
  },
  {
   "cell_type": "markdown",
   "metadata": {},
   "source": [
    "# Step 3"
   ]
  },
  {
   "cell_type": "code",
   "execution_count": 20,
   "metadata": {},
   "outputs": [
    {
     "name": "stdout",
     "output_type": "stream",
     "text": [
      "the cor price and # of baths is 0.2278999173038209\n"
     ]
    }
   ],
   "source": [
    "print(\"the cor price and # of baths is {}\".format(np.corrcoef(price_list,bath_list)[0][1]))"
   ]
  },
  {
   "cell_type": "code",
   "execution_count": 21,
   "metadata": {},
   "outputs": [
    {
     "name": "stdout",
     "output_type": "stream",
     "text": [
      "the cor price and lot size is 0.8106869237150935\n"
     ]
    }
   ],
   "source": [
    "print(\"the cor price and lot size is {}\".format(np.corrcoef(price_list,lot_size_list)[0][1]))"
   ]
  },
  {
   "cell_type": "code",
   "execution_count": 22,
   "metadata": {},
   "outputs": [
    {
     "name": "stdout",
     "output_type": "stream",
     "text": [
      "the cor price and year is -0.038346537078653466\n"
     ]
    }
   ],
   "source": [
    "print(\"the cor price and year is {}\".format(np.corrcoef(price_list,year_list)[0][1]))"
   ]
  },
  {
   "cell_type": "code",
   "execution_count": 23,
   "metadata": {},
   "outputs": [
    {
     "name": "stdout",
     "output_type": "stream",
     "text": [
      "the cor price and area is 0.407551408717802\n"
     ]
    }
   ],
   "source": [
    "print(\"the cor price and area is {}\".format(np.corrcoef(price_list,area_list)[0][1]))"
   ]
  },
  {
   "cell_type": "markdown",
   "metadata": {},
   "source": [
    "# Step 4"
   ]
  },
  {
   "cell_type": "code",
   "execution_count": 24,
   "metadata": {},
   "outputs": [],
   "source": [
    "from scipy import stats"
   ]
  },
  {
   "cell_type": "code",
   "execution_count": 27,
   "metadata": {},
   "outputs": [
    {
     "name": "stdout",
     "output_type": "stream",
     "text": [
      "0.025387094399552994\n",
      "74.37646603912873\n",
      "171081.13292168107\n",
      "0.1660981507478648\n"
     ]
    }
   ],
   "source": [
    "result1 = stats.linregress(area_list,price_list)\n",
    "print(result1.pvalue)\n",
    "print(result1.slope)\n",
    "print(result1.intercept)\n",
    "print(result1.rvalue*result1.rvalue)"
   ]
  },
  {
   "cell_type": "code",
   "execution_count": 29,
   "metadata": {},
   "outputs": [
    {
     "name": "stdout",
     "output_type": "stream",
     "text": [
      "0.8405564564153876\n",
      "-382.3268717298298\n",
      "1114764.977036849\n",
      "0.0014704569059245446\n"
     ]
    }
   ],
   "source": [
    "result2 = stats.linregress(year_list,price_list)\n",
    "print(result2.pvalue)\n",
    "print(result2.slope)\n",
    "print(result2.intercept)\n",
    "print(result2.rvalue*result2.rvalue)"
   ]
  },
  {
   "cell_type": "code",
   "execution_count": 28,
   "metadata": {},
   "outputs": [
    {
     "name": "stdout",
     "output_type": "stream",
     "text": [
      "0.22580469278106366\n",
      "40480.85846867748\n",
      "240654.87238979124\n",
      "0.05193837230708838\n"
     ]
    }
   ],
   "source": [
    "result3 = stats.linregress(bath_list,price_list)\n",
    "print(result3.pvalue)\n",
    "print(result3.slope)\n",
    "print(result3.intercept)\n",
    "print(result3.rvalue*result3.rvalue)"
   ]
  },
  {
   "cell_type": "markdown",
   "metadata": {},
   "source": [
    "# Step 5"
   ]
  },
  {
   "cell_type": "code",
   "execution_count": 32,
   "metadata": {},
   "outputs": [
    {
     "name": "stdout",
     "output_type": "stream",
     "text": [
      "price of house with 4 bathrooms is $402578.3062645012\n"
     ]
    }
   ],
   "source": [
    "print('price of house with 4 bathrooms is ${}'.format(result3.slope*4+result3.intercept))"
   ]
  },
  {
   "cell_type": "code",
   "execution_count": 31,
   "metadata": {},
   "outputs": [
    {
     "name": "stdout",
     "output_type": "stream",
     "text": [
      "price of house with 2000 sqft is $319834.06499993854\n"
     ]
    }
   ],
   "source": [
    "print('price of house with 2000 sqft is ${}'.format(result1.slope*2000+result1.intercept))"
   ]
  },
  {
   "cell_type": "code",
   "execution_count": 33,
   "metadata": {},
   "outputs": [
    {
     "name": "stdout",
     "output_type": "stream",
     "text": [
      "price of house built in 2000 is $350111.23357718927\n"
     ]
    }
   ],
   "source": [
    "print('price of house built in 2000 is ${}'.format(result2.slope*2000+result2.intercept))"
   ]
  }
 ],
 "metadata": {
  "kernelspec": {
   "display_name": "Python 3",
   "language": "python",
   "name": "python3"
  },
  "language_info": {
   "codemirror_mode": {
    "name": "ipython",
    "version": 3
   },
   "file_extension": ".py",
   "mimetype": "text/x-python",
   "name": "python",
   "nbconvert_exporter": "python",
   "pygments_lexer": "ipython3",
   "version": "3.6.5"
  }
 },
 "nbformat": 4,
 "nbformat_minor": 2
}
