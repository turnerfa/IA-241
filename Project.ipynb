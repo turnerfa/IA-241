{
 "cells": [
  {
   "cell_type": "markdown",
   "metadata": {},
   "source": [
    "# Final Project for IA 241"
   ]
  },
  {
   "cell_type": "markdown",
   "metadata": {},
   "source": [
    "### Introduction \n",
    "The objective for this project is to use the methods learned in IA 240 to analyze data from 20 different analyst jobs. The jobs were found using online job sites like Indeed.com and Glassdoor. Then different categories of information pertaining to the jobs were recorded into an Excel file, and then analyzed using Python commands on Jupyter Notebook."
   ]
  },
  {
   "cell_type": "markdown",
   "metadata": {},
   "source": [
    "The data used in this project can be found <a href='Jobs.xlsx'>here</a>"
   ]
  },
  {
   "cell_type": "code",
   "execution_count": 1,
   "metadata": {},
   "outputs": [
    {
     "data": {
      "text/html": [
       "<div>\n",
       "<style scoped>\n",
       "    .dataframe tbody tr th:only-of-type {\n",
       "        vertical-align: middle;\n",
       "    }\n",
       "\n",
       "    .dataframe tbody tr th {\n",
       "        vertical-align: top;\n",
       "    }\n",
       "\n",
       "    .dataframe thead th {\n",
       "        text-align: right;\n",
       "    }\n",
       "</style>\n",
       "<table border=\"1\" class=\"dataframe\">\n",
       "  <thead>\n",
       "    <tr style=\"text-align: right;\">\n",
       "      <th></th>\n",
       "      <th>Job Title</th>\n",
       "      <th>Company</th>\n",
       "      <th>Posted Date</th>\n",
       "      <th>Job Location</th>\n",
       "      <th>Minimal Salary</th>\n",
       "      <th>Job Duty</th>\n",
       "      <th>Required Skills</th>\n",
       "      <th>Years of Experience</th>\n",
       "      <th>Minimal Education</th>\n",
       "      <th>URL</th>\n",
       "    </tr>\n",
       "  </thead>\n",
       "  <tbody>\n",
       "    <tr>\n",
       "      <th>0</th>\n",
       "      <td>Leadership Analyst</td>\n",
       "      <td>Central Intelligence Agency</td>\n",
       "      <td>2018-12-08</td>\n",
       "      <td>Washington, DC</td>\n",
       "      <td>54308</td>\n",
       "      <td>As a Leadership Analyst for the CIA you will s...</td>\n",
       "      <td>Strong verbal presentation skills\\nInterest in...</td>\n",
       "      <td>1</td>\n",
       "      <td>Bachelors</td>\n",
       "      <td>https://www.indeed.com/viewjob?jk=3d4ca3e69b3f...</td>\n",
       "    </tr>\n",
       "    <tr>\n",
       "      <th>1</th>\n",
       "      <td>Political Analyst</td>\n",
       "      <td>Central Intelligence Agency</td>\n",
       "      <td>2018-12-16</td>\n",
       "      <td>Washington, DC</td>\n",
       "      <td>54308</td>\n",
       "      <td>As a Political Analyst for the CIA, you will s...</td>\n",
       "      <td>Deep regional or functional expertise includin...</td>\n",
       "      <td>1</td>\n",
       "      <td>Bachelors</td>\n",
       "      <td>https://www.indeed.com/viewjob?jk=91e1469788f4...</td>\n",
       "    </tr>\n",
       "    <tr>\n",
       "      <th>2</th>\n",
       "      <td>Military Analyst</td>\n",
       "      <td>Central Intelligence Agency</td>\n",
       "      <td>2018-12-22</td>\n",
       "      <td>Washington, DC</td>\n",
       "      <td>54308</td>\n",
       "      <td>As a Military Analyst for the CIA, you will pr...</td>\n",
       "      <td>Interest in international affairs\\nAwareness o...</td>\n",
       "      <td>1</td>\n",
       "      <td>Bachelors</td>\n",
       "      <td>https://www.indeed.com/viewjob?jk=e23573fa673a...</td>\n",
       "    </tr>\n",
       "    <tr>\n",
       "      <th>3</th>\n",
       "      <td>Economic Analyst</td>\n",
       "      <td>Central Intelligence Agency</td>\n",
       "      <td>2018-12-24</td>\n",
       "      <td>Washington, DC</td>\n",
       "      <td>54308</td>\n",
       "      <td>As an Economic Analyst for the CIA, you will a...</td>\n",
       "      <td>Interest in international affairs\\nAwareness o...</td>\n",
       "      <td>1</td>\n",
       "      <td>Bachelors</td>\n",
       "      <td>https://www.indeed.com/viewjob?jk=21c104783241...</td>\n",
       "    </tr>\n",
       "    <tr>\n",
       "      <th>4</th>\n",
       "      <td>Political Analyst</td>\n",
       "      <td>AIPAC</td>\n",
       "      <td>2019-01-16</td>\n",
       "      <td>Washington, DC</td>\n",
       "      <td>99700</td>\n",
       "      <td>The Political Analyst works with the Deputy Na...</td>\n",
       "      <td>Bachelor's degree or commensurate experience p...</td>\n",
       "      <td>3</td>\n",
       "      <td>Bachelors</td>\n",
       "      <td>https://www.glassdoor.at/job-listing/political...</td>\n",
       "    </tr>\n",
       "    <tr>\n",
       "      <th>5</th>\n",
       "      <td>Research and Policy Analyst</td>\n",
       "      <td>Economic Innovation Group</td>\n",
       "      <td>2019-03-24</td>\n",
       "      <td>Washington, DC</td>\n",
       "      <td>60000</td>\n",
       "      <td>This position will provide an aspiring analyst...</td>\n",
       "      <td>Master’s degree in relevant field (e.g. public...</td>\n",
       "      <td>3</td>\n",
       "      <td>Masters</td>\n",
       "      <td>https://www.indeed.com/viewjob?cmp=Economic-In...</td>\n",
       "    </tr>\n",
       "    <tr>\n",
       "      <th>6</th>\n",
       "      <td>Policy Analyst</td>\n",
       "      <td>Government of the District of Columbia</td>\n",
       "      <td>2019-03-27</td>\n",
       "      <td>Washington, DC</td>\n",
       "      <td>73906</td>\n",
       "      <td>This position functions as policy analyst in t...</td>\n",
       "      <td>Candidates must have at least one (1) year of ...</td>\n",
       "      <td>3</td>\n",
       "      <td>Bachelors</td>\n",
       "      <td>https://www.indeed.com/viewjob?jk=66f25b01a85f...</td>\n",
       "    </tr>\n",
       "    <tr>\n",
       "      <th>7</th>\n",
       "      <td>Policy Analyst</td>\n",
       "      <td>Executive Office of the President</td>\n",
       "      <td>2019-03-28</td>\n",
       "      <td>Washington, DC</td>\n",
       "      <td>68036</td>\n",
       "      <td>Policy analysts within the TS Branch are the c...</td>\n",
       "      <td>SPECIALIZED EXPERIENCE: Applicants must have a...</td>\n",
       "      <td>2</td>\n",
       "      <td>Bachelors</td>\n",
       "      <td>https://www.usajobs.gov/GetJob/ViewDetails/528...</td>\n",
       "    </tr>\n",
       "    <tr>\n",
       "      <th>8</th>\n",
       "      <td>Analyst</td>\n",
       "      <td>Tinder</td>\n",
       "      <td>2019-04-01</td>\n",
       "      <td>Los Angeles, CA</td>\n",
       "      <td>89643</td>\n",
       "      <td>Handle escalated technical support emails, ref...</td>\n",
       "      <td>Minimum of 1+ years in a similar role\\nBasic k...</td>\n",
       "      <td>1</td>\n",
       "      <td>Bachelors</td>\n",
       "      <td>https://jobs.livecareer.com/l/analyst-communit...</td>\n",
       "    </tr>\n",
       "    <tr>\n",
       "      <th>9</th>\n",
       "      <td>Policy Analyst</td>\n",
       "      <td>Project On Government Oversight</td>\n",
       "      <td>2019-04-04</td>\n",
       "      <td>Washington, DC</td>\n",
       "      <td>60000</td>\n",
       "      <td>Manage a policy portfolio of overarching issue...</td>\n",
       "      <td>Strong interpersonal skills and the ability to...</td>\n",
       "      <td>3</td>\n",
       "      <td>NaN</td>\n",
       "      <td>https://www.indeed.com/viewjob?jk=0cb8973d74da...</td>\n",
       "    </tr>\n",
       "    <tr>\n",
       "      <th>10</th>\n",
       "      <td>Policy Analyst/Budget Analysis</td>\n",
       "      <td>Maryland General Assembly</td>\n",
       "      <td>2019-04-05</td>\n",
       "      <td>Annapolis, MD</td>\n",
       "      <td>55000</td>\n",
       "      <td>We are recruiting for policy analysts to work ...</td>\n",
       "      <td>A law degree or master’s degree and a demonstr...</td>\n",
       "      <td>2</td>\n",
       "      <td>Masters</td>\n",
       "      <td>https://www.indeed.com/viewjob?jk=ad1de4830637...</td>\n",
       "    </tr>\n",
       "    <tr>\n",
       "      <th>11</th>\n",
       "      <td>Policy Analyst</td>\n",
       "      <td>State of New Jersey</td>\n",
       "      <td>2019-04-05</td>\n",
       "      <td>Trenton, NJ</td>\n",
       "      <td>50000</td>\n",
       "      <td>Conducts empirical research and analysis on po...</td>\n",
       "      <td>Have in-depth knowledge of relevant policy are...</td>\n",
       "      <td>3</td>\n",
       "      <td>Masters</td>\n",
       "      <td>https://www.indeed.com/cmp/State-of-New-Jersey...</td>\n",
       "    </tr>\n",
       "    <tr>\n",
       "      <th>12</th>\n",
       "      <td>Policy Analyst</td>\n",
       "      <td>Department of the Treasury</td>\n",
       "      <td>2019-04-05</td>\n",
       "      <td>Washington, DC</td>\n",
       "      <td>110231</td>\n",
       "      <td>As a Policy Analyst you will be responsible pl...</td>\n",
       "      <td>Must be a U.S. Citizen or National, You must h...</td>\n",
       "      <td>1</td>\n",
       "      <td>Masters</td>\n",
       "      <td>https://www.usajobs.gov/GetJob/ViewDetails/529...</td>\n",
       "    </tr>\n",
       "    <tr>\n",
       "      <th>13</th>\n",
       "      <td>Policy Analyst</td>\n",
       "      <td>Washington County, OR</td>\n",
       "      <td>2019-04-06</td>\n",
       "      <td>Hillsboro, OR</td>\n",
       "      <td>92832</td>\n",
       "      <td>Collaborates with the Department Director, dep...</td>\n",
       "      <td>Open minded to emerging trends in policy makin...</td>\n",
       "      <td>5</td>\n",
       "      <td>Bschelors</td>\n",
       "      <td>https://www.indeed.com/viewjob?jk=996d7267abd9...</td>\n",
       "    </tr>\n",
       "    <tr>\n",
       "      <th>14</th>\n",
       "      <td>Housing Policy Analyst</td>\n",
       "      <td>City of Los Angeles, Mayor's Office</td>\n",
       "      <td>2019-04-09</td>\n",
       "      <td>Los Angeles, CA</td>\n",
       "      <td>70867</td>\n",
       "      <td>The Housing Policy Analyst’s responsibilities ...</td>\n",
       "      <td>An applicant with strong project management, w...</td>\n",
       "      <td>3</td>\n",
       "      <td>Bachelors</td>\n",
       "      <td>https://www.indeed.com/cmp/City-of-Los-Angeles...</td>\n",
       "    </tr>\n",
       "    <tr>\n",
       "      <th>15</th>\n",
       "      <td>Policy Analyst</td>\n",
       "      <td>CATO Institure</td>\n",
       "      <td>2019-04-09</td>\n",
       "      <td>Washington, DC</td>\n",
       "      <td>74249</td>\n",
       "      <td>Job Description\\nThe Cato Institute is seeking...</td>\n",
       "      <td>Must have strong writing and communication ski...</td>\n",
       "      <td>2</td>\n",
       "      <td>Bachelors</td>\n",
       "      <td>https://www.glassdoor.com/job-listing/policy-a...</td>\n",
       "    </tr>\n",
       "    <tr>\n",
       "      <th>16</th>\n",
       "      <td>Policy Analyst</td>\n",
       "      <td>Virginia Department of Health</td>\n",
       "      <td>2019-04-10</td>\n",
       "      <td>Richmond, VA</td>\n",
       "      <td>65000</td>\n",
       "      <td>Facilitates the work of the Deputy Commissione...</td>\n",
       "      <td>Experience with planning, organizing, and cond...</td>\n",
       "      <td>0</td>\n",
       "      <td>Masters</td>\n",
       "      <td>https://www.indeed.com/viewjob?jk=e18eb13b4801...</td>\n",
       "    </tr>\n",
       "    <tr>\n",
       "      <th>17</th>\n",
       "      <td>Tax Policy Analyst</td>\n",
       "      <td>Department of the Treasury</td>\n",
       "      <td>2019-04-11</td>\n",
       "      <td>Washington, DC</td>\n",
       "      <td>89417</td>\n",
       "      <td>The Small Business/Self-Employed (SB/SE) Divis...</td>\n",
       "      <td>Must Be a U.S. Citizen or National, You must h...</td>\n",
       "      <td>1</td>\n",
       "      <td>Bachelors</td>\n",
       "      <td>https://www.usajobs.gov/GetJob/ViewDetails/530...</td>\n",
       "    </tr>\n",
       "    <tr>\n",
       "      <th>18</th>\n",
       "      <td>Risk Management Analyst</td>\n",
       "      <td>Anthem</td>\n",
       "      <td>2019-04-15</td>\n",
       "      <td>Richmond, VA</td>\n",
       "      <td>66000</td>\n",
       "      <td>The ideal candidate will be responsible for su...</td>\n",
       "      <td>BA/BS or any combination of education and expe...</td>\n",
       "      <td>5</td>\n",
       "      <td>Bachelors</td>\n",
       "      <td>https://anthem.referrals.selectminds.com/jobs/...</td>\n",
       "    </tr>\n",
       "    <tr>\n",
       "      <th>19</th>\n",
       "      <td>Housing Services Policy Analyst</td>\n",
       "      <td>Brilliant Corners</td>\n",
       "      <td>2019-04-16</td>\n",
       "      <td>Los Angeles, CA</td>\n",
       "      <td>55000</td>\n",
       "      <td>The Policy Analyst works within the Brilliant ...</td>\n",
       "      <td>Superior writing skills with a preference for ...</td>\n",
       "      <td>0</td>\n",
       "      <td>Bachelors</td>\n",
       "      <td>https://www.indeed.com/viewjob?jk=79a1f106142a...</td>\n",
       "    </tr>\n",
       "  </tbody>\n",
       "</table>\n",
       "</div>"
      ],
      "text/plain": [
       "                          Job Title                                 Company  \\\n",
       "0                Leadership Analyst             Central Intelligence Agency   \n",
       "1                 Political Analyst             Central Intelligence Agency   \n",
       "2                  Military Analyst             Central Intelligence Agency   \n",
       "3                  Economic Analyst             Central Intelligence Agency   \n",
       "4                 Political Analyst                                   AIPAC   \n",
       "5       Research and Policy Analyst               Economic Innovation Group   \n",
       "6                    Policy Analyst  Government of the District of Columbia   \n",
       "7                    Policy Analyst       Executive Office of the President   \n",
       "8                           Analyst                                  Tinder   \n",
       "9                    Policy Analyst         Project On Government Oversight   \n",
       "10   Policy Analyst/Budget Analysis               Maryland General Assembly   \n",
       "11                   Policy Analyst                     State of New Jersey   \n",
       "12                   Policy Analyst              Department of the Treasury   \n",
       "13                   Policy Analyst                   Washington County, OR   \n",
       "14           Housing Policy Analyst     City of Los Angeles, Mayor's Office   \n",
       "15                   Policy Analyst                          CATO Institure   \n",
       "16                   Policy Analyst           Virginia Department of Health   \n",
       "17               Tax Policy Analyst              Department of the Treasury   \n",
       "18          Risk Management Analyst                                  Anthem   \n",
       "19  Housing Services Policy Analyst                       Brilliant Corners   \n",
       "\n",
       "   Posted Date     Job Location  Minimal Salary  \\\n",
       "0   2018-12-08   Washington, DC           54308   \n",
       "1   2018-12-16   Washington, DC           54308   \n",
       "2   2018-12-22   Washington, DC           54308   \n",
       "3   2018-12-24   Washington, DC           54308   \n",
       "4   2019-01-16   Washington, DC           99700   \n",
       "5   2019-03-24   Washington, DC           60000   \n",
       "6   2019-03-27   Washington, DC           73906   \n",
       "7   2019-03-28   Washington, DC           68036   \n",
       "8   2019-04-01  Los Angeles, CA           89643   \n",
       "9   2019-04-04   Washington, DC           60000   \n",
       "10  2019-04-05    Annapolis, MD           55000   \n",
       "11  2019-04-05      Trenton, NJ           50000   \n",
       "12  2019-04-05   Washington, DC          110231   \n",
       "13  2019-04-06    Hillsboro, OR           92832   \n",
       "14  2019-04-09  Los Angeles, CA           70867   \n",
       "15  2019-04-09   Washington, DC           74249   \n",
       "16  2019-04-10     Richmond, VA           65000   \n",
       "17  2019-04-11   Washington, DC           89417   \n",
       "18  2019-04-15     Richmond, VA           66000   \n",
       "19  2019-04-16  Los Angeles, CA           55000   \n",
       "\n",
       "                                             Job Duty  \\\n",
       "0   As a Leadership Analyst for the CIA you will s...   \n",
       "1   As a Political Analyst for the CIA, you will s...   \n",
       "2   As a Military Analyst for the CIA, you will pr...   \n",
       "3   As an Economic Analyst for the CIA, you will a...   \n",
       "4   The Political Analyst works with the Deputy Na...   \n",
       "5   This position will provide an aspiring analyst...   \n",
       "6   This position functions as policy analyst in t...   \n",
       "7   Policy analysts within the TS Branch are the c...   \n",
       "8   Handle escalated technical support emails, ref...   \n",
       "9   Manage a policy portfolio of overarching issue...   \n",
       "10  We are recruiting for policy analysts to work ...   \n",
       "11  Conducts empirical research and analysis on po...   \n",
       "12  As a Policy Analyst you will be responsible pl...   \n",
       "13  Collaborates with the Department Director, dep...   \n",
       "14  The Housing Policy Analyst’s responsibilities ...   \n",
       "15  Job Description\\nThe Cato Institute is seeking...   \n",
       "16  Facilitates the work of the Deputy Commissione...   \n",
       "17  The Small Business/Self-Employed (SB/SE) Divis...   \n",
       "18  The ideal candidate will be responsible for su...   \n",
       "19  The Policy Analyst works within the Brilliant ...   \n",
       "\n",
       "                                      Required Skills  Years of Experience  \\\n",
       "0   Strong verbal presentation skills\\nInterest in...                    1   \n",
       "1   Deep regional or functional expertise includin...                    1   \n",
       "2   Interest in international affairs\\nAwareness o...                    1   \n",
       "3   Interest in international affairs\\nAwareness o...                    1   \n",
       "4   Bachelor's degree or commensurate experience p...                    3   \n",
       "5   Master’s degree in relevant field (e.g. public...                    3   \n",
       "6   Candidates must have at least one (1) year of ...                    3   \n",
       "7   SPECIALIZED EXPERIENCE: Applicants must have a...                    2   \n",
       "8   Minimum of 1+ years in a similar role\\nBasic k...                    1   \n",
       "9   Strong interpersonal skills and the ability to...                    3   \n",
       "10  A law degree or master’s degree and a demonstr...                    2   \n",
       "11  Have in-depth knowledge of relevant policy are...                    3   \n",
       "12  Must be a U.S. Citizen or National, You must h...                    1   \n",
       "13  Open minded to emerging trends in policy makin...                    5   \n",
       "14  An applicant with strong project management, w...                    3   \n",
       "15  Must have strong writing and communication ski...                    2   \n",
       "16  Experience with planning, organizing, and cond...                    0   \n",
       "17  Must Be a U.S. Citizen or National, You must h...                    1   \n",
       "18  BA/BS or any combination of education and expe...                    5   \n",
       "19  Superior writing skills with a preference for ...                    0   \n",
       "\n",
       "   Minimal Education                                                URL  \n",
       "0          Bachelors  https://www.indeed.com/viewjob?jk=3d4ca3e69b3f...  \n",
       "1          Bachelors  https://www.indeed.com/viewjob?jk=91e1469788f4...  \n",
       "2          Bachelors  https://www.indeed.com/viewjob?jk=e23573fa673a...  \n",
       "3          Bachelors  https://www.indeed.com/viewjob?jk=21c104783241...  \n",
       "4          Bachelors  https://www.glassdoor.at/job-listing/political...  \n",
       "5            Masters  https://www.indeed.com/viewjob?cmp=Economic-In...  \n",
       "6          Bachelors  https://www.indeed.com/viewjob?jk=66f25b01a85f...  \n",
       "7          Bachelors  https://www.usajobs.gov/GetJob/ViewDetails/528...  \n",
       "8          Bachelors  https://jobs.livecareer.com/l/analyst-communit...  \n",
       "9                NaN  https://www.indeed.com/viewjob?jk=0cb8973d74da...  \n",
       "10           Masters  https://www.indeed.com/viewjob?jk=ad1de4830637...  \n",
       "11           Masters  https://www.indeed.com/cmp/State-of-New-Jersey...  \n",
       "12           Masters  https://www.usajobs.gov/GetJob/ViewDetails/529...  \n",
       "13         Bschelors  https://www.indeed.com/viewjob?jk=996d7267abd9...  \n",
       "14         Bachelors  https://www.indeed.com/cmp/City-of-Los-Angeles...  \n",
       "15         Bachelors  https://www.glassdoor.com/job-listing/policy-a...  \n",
       "16           Masters  https://www.indeed.com/viewjob?jk=e18eb13b4801...  \n",
       "17         Bachelors  https://www.usajobs.gov/GetJob/ViewDetails/530...  \n",
       "18         Bachelors  https://anthem.referrals.selectminds.com/jobs/...  \n",
       "19         Bachelors  https://www.indeed.com/viewjob?jk=79a1f106142a...  "
      ]
     },
     "execution_count": 1,
     "metadata": {},
     "output_type": "execute_result"
    }
   ],
   "source": [
    "import pandas \n",
    "df = pandas.read_excel('Jobs.xlsx')\n",
    "df[:21]"
   ]
  },
  {
   "cell_type": "markdown",
   "metadata": {},
   "source": [
    "## Question 2.1"
   ]
  },
  {
   "cell_type": "code",
   "execution_count": 2,
   "metadata": {},
   "outputs": [
    {
     "name": "stdout",
     "output_type": "stream",
     "text": [
      "['Policy Analyst', 'Political Analyst', 'Leadership Analyst', 'Military Analyst', 'Economic Analyst', 'Research and Policy Analyst', 'Analyst', 'Policy Analyst/Budget Analysis', 'Housing Policy Analyst', 'Tax Policy Analyst']\n",
      "[8, 2, 1, 1, 1, 1, 1, 1, 1, 1]\n"
     ]
    }
   ],
   "source": [
    "from collections import Counter\n",
    "count_result = Counter(df['Job Title'])\n",
    "titles = []\n",
    "titles_counter = []\n",
    "\n",
    "for title, count in count_result.most_common(10):\n",
    "    titles.append(title)\n",
    "    titles_counter.append(count)\n",
    "\n",
    "print (titles)\n",
    "print (titles_counter)"
   ]
  },
  {
   "cell_type": "code",
   "execution_count": 29,
   "metadata": {},
   "outputs": [
    {
     "data": {
      "image/png": "[encoded data removed]",
      "text/plain": [
       "<Figure size 432x288 with 1 Axes>"
      ]
     },
     "metadata": {},
     "output_type": "display_data"
    }
   ],
   "source": [
    "import matplotlib.pyplot as plt\n",
    "plt.barh(titles,titles_counter)\n",
    "plt.show()"
   ]
  },
  {
   "cell_type": "markdown",
   "metadata": {},
   "source": [
    "### Summary\n",
    "\n",
    "The most popular job title is 'Policy Analyst' by a wide margin of 6 more jobs than the second most popular job title,'Political Analyst', which only has two entries. Most of the job titles pertain to policy or politics because the researcher is interested in the political realm of analyst jobs, so during the data collection those jobs were more likely to be chosen."
   ]
  },
  {
   "cell_type": "markdown",
   "metadata": {},
   "source": [
    "# Question 2.2"
   ]
  },
  {
   "cell_type": "code",
   "execution_count": 4,
   "metadata": {},
   "outputs": [
    {
     "name": "stdout",
     "output_type": "stream",
     "text": [
      "['Central Intelligence Agency', 'Department of the Treasury', 'AIPAC', 'Economic Innovation Group', 'Government of the District of Columbia', 'Executive Office of the President', 'Tinder', 'Project On Government Oversight', 'Maryland General Assembly', 'State of New Jersey']\n",
      "[4, 2, 1, 1, 1, 1, 1, 1, 1, 1]\n"
     ]
    }
   ],
   "source": [
    "from collections import Counter\n",
    "count_result = Counter(df['Company'])\n",
    "words = []\n",
    "counter = []\n",
    "\n",
    "for word, count in count_result.most_common(10):\n",
    "    words.append(word)\n",
    "    counter.append(count)\n",
    "\n",
    "print (words)\n",
    "print (counter)"
   ]
  },
  {
   "cell_type": "code",
   "execution_count": 5,
   "metadata": {},
   "outputs": [],
   "source": [
    "import matplotlib.pyplot as plt"
   ]
  },
  {
   "cell_type": "code",
   "execution_count": 6,
   "metadata": {},
   "outputs": [
    {
     "data": {
      "image/png": "[encoded data removed]",
      "text/plain": [
       "<Figure size 432x288 with 1 Axes>"
      ]
     },
     "metadata": {},
     "output_type": "display_data"
    }
   ],
   "source": [
    "from collections import Counter\n",
    "count_result = Counter(df['Company'])\n",
    "plt.barh(words,counter)\n",
    "plt.show()"
   ]
  },
  {
   "cell_type": "markdown",
   "metadata": {},
   "source": [
    "### Summary\n",
    "\n",
    "Central Intelligence Agency is the most frequent company that posted the job listing, with 4 of the 20 listings analyzed. Department of the Treasury is the second most frequent company, and then there is no third place because every other company only has one listing. Many federal departments and private companies hire analysts, which could explain why there is a great diversity of companies who posted analyst jobs. Because of this wide spread of hiring companies, it makes sense that there is no clear winner for the third place. There's a 8 way tie for 3rd place because companies only need one good analyst, rather than many mediocre ones, so most companies don't post a high volume of job postings."
   ]
  },
  {
   "cell_type": "markdown",
   "metadata": {},
   "source": [
    "# Question 2.3"
   ]
  },
  {
   "cell_type": "code",
   "execution_count": 7,
   "metadata": {},
   "outputs": [
    {
     "data": {
      "text/plain": [
       "0    2018-12-08\n",
       "1    2018-12-16\n",
       "2    2018-12-22\n",
       "3    2018-12-24\n",
       "4    2019-01-16\n",
       "5    2019-03-24\n",
       "6    2019-03-27\n",
       "7    2019-03-28\n",
       "8    2019-04-01\n",
       "9    2019-04-04\n",
       "10   2019-04-05\n",
       "11   2019-04-05\n",
       "12   2019-04-05\n",
       "13   2019-04-06\n",
       "14   2019-04-09\n",
       "15   2019-04-09\n",
       "16   2019-04-10\n",
       "17   2019-04-11\n",
       "18   2019-04-15\n",
       "19   2019-04-16\n",
       "Name: Posted Date, dtype: datetime64[ns]"
      ]
     },
     "execution_count": 7,
     "metadata": {},
     "output_type": "execute_result"
    }
   ],
   "source": [
    "import pandas\n",
    "df = pandas.read_excel('Jobs.xlsx')\n",
    "df['Posted Date']"
   ]
  },
  {
   "cell_type": "code",
   "execution_count": 8,
   "metadata": {},
   "outputs": [],
   "source": [
    "from collections import Counter"
   ]
  },
  {
   "cell_type": "code",
   "execution_count": 9,
   "metadata": {},
   "outputs": [
    {
     "name": "stdout",
     "output_type": "stream",
     "text": [
      "Counter({Timestamp('2019-04-05 00:00:00'): 3, Timestamp('2019-04-09 00:00:00'): 2, Timestamp('2018-12-08 00:00:00'): 1, Timestamp('2018-12-16 00:00:00'): 1, Timestamp('2018-12-22 00:00:00'): 1, Timestamp('2018-12-24 00:00:00'): 1, Timestamp('2019-01-16 00:00:00'): 1, Timestamp('2019-03-24 00:00:00'): 1, Timestamp('2019-03-27 00:00:00'): 1, Timestamp('2019-03-28 00:00:00'): 1, Timestamp('2019-04-01 00:00:00'): 1, Timestamp('2019-04-04 00:00:00'): 1, Timestamp('2019-04-06 00:00:00'): 1, Timestamp('2019-04-10 00:00:00'): 1, Timestamp('2019-04-11 00:00:00'): 1, Timestamp('2019-04-15 00:00:00'): 1, Timestamp('2019-04-16 00:00:00'): 1})\n"
     ]
    }
   ],
   "source": [
    "result = Counter(df['Posted Date'])\n",
    "print (result) "
   ]
  },
  {
   "cell_type": "code",
   "execution_count": 10,
   "metadata": {},
   "outputs": [
    {
     "data": {
      "image/png": "[encoded data removed]",
      "text/plain": [
       "<Figure size 1080x432 with 1 Axes>"
      ]
     },
     "metadata": {},
     "output_type": "display_data"
    }
   ],
   "source": [
    "%matplotlib inline \n",
    "import matplotlib.pyplot as plt\n",
    "from matplotlib.pyplot import figure\n",
    "figure(figsize=(15,6))\n",
    "plt.plot(result.keys(), result.values())\n",
    "plt.show()"
   ]
  },
  {
   "cell_type": "markdown",
   "metadata": {},
   "source": [
    "### Summary\n",
    "\n",
    "The most popular time that jobs were posted was March 5th, 2019 which had 3 entries. The entire month of March was the most popular month for job postings within the jobs analyzed. This could be because the job websites used prioritized recent job postings, therefore the March ones would be on the top of the queue when doing the original data collection portion of this project."
   ]
  },
  {
   "cell_type": "markdown",
   "metadata": {},
   "source": [
    "# Question 2.4"
   ]
  },
  {
   "cell_type": "code",
   "execution_count": 11,
   "metadata": {},
   "outputs": [
    {
     "name": "stdout",
     "output_type": "stream",
     "text": [
      "['Washington, DC', 'Los Angeles, CA', 'Richmond, VA', 'Annapolis, MD', 'Trenton, NJ', 'Hillsboro, OR']\n",
      "[12, 3, 2, 1, 1, 1]\n"
     ]
    }
   ],
   "source": [
    "count_result = Counter(df['Job Location'])\n",
    "location = []\n",
    "locations_counter = []\n",
    "\n",
    "for locations, count in count_result.most_common(10):\n",
    "    location.append(locations)\n",
    "    locations_counter.append(count)\n",
    "\n",
    "print (location)\n",
    "print (locations_counter)"
   ]
  },
  {
   "cell_type": "code",
   "execution_count": 12,
   "metadata": {},
   "outputs": [
    {
     "data": {
      "image/png": "[encoded data removed]",
      "text/plain": [
       "<Figure size 432x288 with 1 Axes>"
      ]
     },
     "metadata": {},
     "output_type": "display_data"
    }
   ],
   "source": [
    "num_list_1 = (locations_counter)\n",
    "labels = (location)\n",
    "\n",
    "import matplotlib.pyplot as plt\n",
    "\n",
    "plt.pie(num_list_1,labels=labels)\n",
    "plt.show()"
   ]
  },
  {
   "cell_type": "markdown",
   "metadata": {},
   "source": [
    "### Summary\n",
    "\n",
    "The most popular place for job locations is Washington, D.C. the second most popular is Los Angeles, and the third most popular is Richmond, VA. Every other location listed on the pie graph has only one job listing. Within the top three most popular locations, Washington, D.C. is the leader by a wide margin with 12 listings. Whereas Los Angeles and Richmond are only one job listing apart making the difference between second and third place relatively small. The majority of the listings were in the capitals of states, probably because that is where the hub of political action is with state-level government bodies. "
   ]
  },
  {
   "cell_type": "markdown",
   "metadata": {},
   "source": [
    "# Question 2.5"
   ]
  },
  {
   "cell_type": "code",
   "execution_count": 13,
   "metadata": {},
   "outputs": [
    {
     "name": "stdout",
     "output_type": "stream",
     "text": [
      "0      54308\n",
      "1      54308\n",
      "2      54308\n",
      "3      54308\n",
      "4      99700\n",
      "5      60000\n",
      "6      73906\n",
      "7      68036\n",
      "8      89643\n",
      "9      60000\n",
      "10     55000\n",
      "11     50000\n",
      "12    110231\n",
      "13     92832\n",
      "14     70867\n",
      "15     74249\n",
      "16     65000\n",
      "17     89417\n",
      "18     66000\n",
      "19     55000\n",
      "Name: Minimal Salary, dtype: int64\n"
     ]
    }
   ],
   "source": [
    "salary = (df['Minimal Salary'])\n",
    "print(salary)"
   ]
  },
  {
   "cell_type": "code",
   "execution_count": 14,
   "metadata": {},
   "outputs": [],
   "source": [
    "import numpy as np"
   ]
  },
  {
   "cell_type": "code",
   "execution_count": 15,
   "metadata": {},
   "outputs": [
    {
     "name": "stdout",
     "output_type": "stream",
     "text": [
      "the average minimal salary is $69855.65\n"
     ]
    }
   ],
   "source": [
    "average_salary = np.mean(salary)\n",
    "print(\"the average minimal salary is ${}\".format(average_salary))"
   ]
  },
  {
   "cell_type": "markdown",
   "metadata": {},
   "source": [
    "# Question 2.6"
   ]
  },
  {
   "cell_type": "code",
   "execution_count": 16,
   "metadata": {},
   "outputs": [
    {
     "name": "stdout",
     "output_type": "stream",
     "text": [
      "the average years of experience required is 2.05\n"
     ]
    }
   ],
   "source": [
    "experience = (df['Years of Experience'])\n",
    "average_years_experience = np.mean(experience)\n",
    "print(\"the average years of experience required is {}\".format(average_years_experience))"
   ]
  },
  {
   "cell_type": "markdown",
   "metadata": {},
   "source": [
    "# Question 2.7"
   ]
  },
  {
   "cell_type": "code",
   "execution_count": 17,
   "metadata": {},
   "outputs": [],
   "source": [
    "import matplotlib.pyplot as plt"
   ]
  },
  {
   "cell_type": "code",
   "execution_count": 18,
   "metadata": {},
   "outputs": [
    {
     "data": {
      "image/png": "[encoded data removed]",
      "text/plain": [
       "<Figure size 432x288 with 1 Axes>"
      ]
     },
     "metadata": {},
     "output_type": "display_data"
    }
   ],
   "source": [
    "experience = (df['Years of Experience'])\n",
    "salaries = (df['Minimal Salary'])\n",
    "\n",
    "\n",
    "plt.scatter(experience, salaries, c=experience)\n",
    "plt.show()"
   ]
  },
  {
   "cell_type": "code",
   "execution_count": 19,
   "metadata": {},
   "outputs": [
    {
     "name": "stdout",
     "output_type": "stream",
     "text": [
      "the correlation between experience and salary is:\n",
      "[[1.         0.15562069]\n",
      " [0.15562069 1.        ]]\n"
     ]
    }
   ],
   "source": [
    "#pearson correlation coefficient between experience and minimal salary\n",
    "print(\"the correlation between experience and salary is:\")\n",
    "\n",
    "print(np.corrcoef(((df['Minimal Salary'])),(df['Years of Experience'])))"
   ]
  },
  {
   "cell_type": "code",
   "execution_count": 20,
   "metadata": {},
   "outputs": [
    {
     "name": "stdout",
     "output_type": "stream",
     "text": [
      "the linear regression for the relationship between experience and minimal salary is: y= 1915.0282413350449x + 65929.84210526315\n"
     ]
    }
   ],
   "source": [
    "#linear regression\n",
    "\n",
    "from scipy import stats\n",
    "result = stats.linregress(experience,salaries)\n",
    "\n",
    "print(\"the linear regression for the relationship between experience and minimal salary is: y= {0}x + {1}\".format(result.slope,result.intercept))"
   ]
  },
  {
   "cell_type": "markdown",
   "metadata": {},
   "source": [
    "### Summary\n",
    "\n",
    "The correlation between experience and salary is low, which is shown by the low Pearson coefficent number and unorganized scatter plot. If the correlation was higher, then the scatter plot would look more like a straight line and the coefficent would be higher for the Pearson coefficient. However, the sample size of the jobs polled is relatively small, so maybe within the entire population of analyst jobs there is a stronger correlation."
   ]
  },
  {
   "cell_type": "markdown",
   "metadata": {},
   "source": [
    "# Question 2.8"
   ]
  },
  {
   "cell_type": "code",
   "execution_count": 21,
   "metadata": {},
   "outputs": [
    {
     "name": "stdout",
     "output_type": "stream",
     "text": [
      "<class 'str'>\n",
      "<class 'str'>\n",
      "<class 'str'>\n",
      "<class 'str'>\n",
      "<class 'str'>\n",
      "<class 'str'>\n",
      "<class 'str'>\n",
      "<class 'str'>\n",
      "<class 'str'>\n",
      "<class 'str'>\n",
      "<class 'str'>\n",
      "<class 'str'>\n",
      "<class 'str'>\n",
      "<class 'str'>\n",
      "<class 'str'>\n",
      "<class 'str'>\n",
      "<class 'str'>\n",
      "<class 'str'>\n",
      "<class 'str'>\n",
      "<class 'str'>\n"
     ]
    }
   ],
   "source": [
    "for duty in df['Job Duty']:\n",
    "    print (type(duty))"
   ]
  },
  {
   "cell_type": "code",
   "execution_count": 22,
   "metadata": {},
   "outputs": [
    {
     "name": "stdout",
     "output_type": "stream",
     "text": [
      "The Policy Analyst works within the Brilliant Corners Housing Services Team to lead the drafting of program policies and procedures. The Policy Analyst works closely with the Chief Program Officer, Program Directors, and Program Managers across Brilliant Corners to document and systemize Brilliant Corners’ supportive housing models. Given the opportunity for professional growth, the position is ideal for a self-starter who is interested in program design and committed to social justice. \n",
      "\n",
      "The Policy Analyst will collaborate with management and staff to build out policies and procedures—including project management, organization, and drafting of all core documents. The Policy Analyst will support the Brilliant Corners Housing Services Team to further develop the “Brilliant Corners approach.” The Policy Analyst will participate in high-level program design and policy meetings—both internally and externally. The Policy Analyst collaborates regularly with Brilliant Corners’ legal counsel. The Policy Analyst will work under the direction of the Chief Program Officer. The ideal candidate will be responsible for supporting the department regarding all aspects of the corporate insurance program by gathering, coordinating, and maintains the exposure/underwriting information for applicable insurance renewals and participating in loss control activities to mitigate the risk of loss to the company. \n",
      "\n",
      "Primary duties may include, but are not limited to: \n",
      "\n",
      "Produces loss control reports as needed. \n",
      "\n",
      "Reports and tracks all P&C claims. \n",
      "\n",
      "Oversees WC TPA adjuster activity \n",
      "\n",
      "Supports corporate safety initiatives \n",
      "\n",
      "Acts as a liaison between Legal and CRM department coordinating claims/lawsuits reporting and tracking. \n",
      "\n",
      "Acts as a central contact to the carrier on covered claim events and litigation, and gathers and reports claim information to carrier. \n",
      "The Small Business/Self-Employed (SB/SE) Division provides examinations and taxpayer education services for about 7 million small businesses and upwards of 33 million self-employed and supplemental income taxpayers.\n",
      "The incumbent serves as a tax analyst with responsibility for policy development, program planning, development, monitoring, problem detection and solving activities, and evaluating assigned mission critical tax compliance and tax compliance fostering programs or program segments. \n",
      "\n",
      "Serve as an expert analyst responsible for developing policy and interpreting guidance on program planning, execution, and evaluation to ensure tax compliance and/or taxpayer education and communication functions.\n",
      "Administer all phases of program oversight ranging from ensuring program goals are met, procedures, studies/projects, and sufficient resources to meet program goals.\n",
      "Plan, analyze, determine cost/benefit relationships and coordinates a variety of functions, operations, and teams.\n",
      "Independently studies problems facing operating unit functions or those of specific concern within the organization assigned.\n",
      "Analyze assigned program area(s) to discern trends in program delivery.\n",
      "Develop and present complete plans for activities assigned, and coordinates programs or program segments and related procedures.\n",
      "Provide necessary technical advice and staff assistance to executives, field managers, and employees in the assigned compliance, accounts management, and/or taxpayer education program area.\n",
      "Prepare final reports on identified issues after they have been developed and the service’s position has been formulated. Facilitates the work of the Deputy Commissioner for Governmental and Regulatory Affairs and serves as a member of the agency's Governmental and Regulatory Affairs team. Serves as lead staff to State Board of Health. Operates and coordinates agency performance management system. Provides research, analytical, and administrative support for a wide range of public health policy, performance management, intergovernmental relations, and constituent service functions and activities. Enables the development of strategic, timely, and data-driven public health policy proposals. Guides achievement of Public Health 3.0 goals as aligned with Virginia's Plan for Well Being and the VDH strategic plan. Serves as lead staff to State Board of Health (BOH). Work regularly requires discretion; implementation of policies, procedures, and processes; and frequent interaction with federal, state, and local officials, as well stakeholder organizations and private citizens.Job Description\n",
      "The Cato Institute is seeking a scholar for a full-time education policy analyst position located in Washington, DC. This individual will be a scholar in elementary and secondary school choice policy and other facets of K-12 education, as well as, preferably, higher education or early-childhood education. Successful candidates will be entrepreneurial, hard-working self-starters. \n",
      "Produce studies, op-eds, blog posts, and social media content that address relevant policy issues\n",
      "Make media appearances on relevant policy issues\n",
      "Participate in panel discussions on relevant policy issues\n",
      "Present to audiences on relevant policy issues\n",
      "Conceive of and organize policy forums and other events\n",
      "Meet with policymakers and build relationships\n",
      "Commission and edit studies from outside expertsThe Housing Policy Analyst’s responsibilities will be:\n",
      " Provide the Mayor’s Office and City departments with in-house research and data analysis to glean insight into existing programs and formulate thoughtful solutions to the housing crisis.\n",
      " Develop essential metrics from public and administrative data sources and establish regular publicfacing and internal-facing reports to help senior staff monitor the City’s progress on a variety of housing programs.\n",
      " Be an integral member of a data and policy team, providing the expertise to support data-driven decisions and policy in government.\n",
      " Support the development of talking points, quick turn-around qualitative research, and briefing papers for senior staff.Collaborates with the Department Director, department leadership, and County Administrative Office to develop policies and procedures related to key County initiatives.\n",
      "Drafts and edits written materials to outline the Department's objectives, policies, and processes.\n",
      "May represent Washington County on various committees and task forces. Attends meetings and functions that are generally technical in nature and involve working with staff from various jurisdictions in support of regional or state initiatives.\n",
      "Prepares and presents reports on policy issues as requested by the Department Director to the Board of County Commissioners, commissions, or other community groups.\n",
      "May serve as staff lead and coordinator for specific projects. Participates in the development of the Department work plan. Reviews and recommends actions on draft work plans.\n",
      "Collaborates with staff on the development, review, and implementation of projects from design to completion.\n",
      "Builds and maintains effective relationships and communications with internal and external audiences or stakeholders.\n",
      "Fosters increased interagency collaboration and facilitates the development of the County's positioning on critical issues through coordination and participation in regular staff level meetings with colleagues from other public bodies.\n",
      "Represents the Department on issues related to the County's comprehensive goals and initiatives.\n",
      "Acts as lead on complex initiatives, studies and projects, both within the department and in cooperation with other agency partners.As a Policy Analyst you will be responsible planning, coordinating, conducting, managing, and evaluating analytical studies and/or projects.  In this role, you will be called upon to manage administrative and operational programs, specific to the organization for which you are hired.  You will focus on improving overall organizational effectiveness consistent with broad management goals and ensure an efficient utilization of resources in carrying out your responsibilities. These programs may include activities such as strategic program planning, business systems planning, and administrative support functions that are service-wide in scope.  You will make determinations and recommendations the directly influence programs and policies within the organization.\n",
      "Conduct business reviews of field and headquarter offices, and serve on task forces or study groups to address regional or servicewide issues.\n",
      "Perform independent analyses and studies of complex problems facing the organizations functions or of particular concern or interest within the organization. \n",
      "Coordinate cross-functional activities within the Division, including development of operating plans, and Business Plan and Business Review assessments and reports.\n",
      "Assist with oversight responsibilities by conducting specific studies and analyses to support operational reviews and to measure achievement of goals and performance expectations, execution of plans, accomplishment of benchmarks, compliance with directives, and effective utilization of resources.\n",
      "Analyze program areas to discern trends in program delivery such as effectiveness of incorporating various applications into audit and compliance processes, analysis of consolidated report data to measure effectiveness in meeting baselines, or the degree to which program plans and achievements support strategic initiatives.\n",
      "Serves as a process analysis expert, and applies skills to local or service-wide issues. Conducts empirical research and analysis on policies and trends.\n",
      "Produce studies, white papers, and analysis that address relevant policy issues.\n",
      "Prepares strategic recommendations for issue development.\n",
      "Serve on research teams with responsibility for action items.\n",
      "Provide assistance on budgetary issues, including the fiscal impact of policy initiatives on state and local government and tax implications.\n",
      "Prepare remarks for speeches and conferences.\n",
      "Provide research for legislative testimonies.\n",
      "Provide other duties as required to support the department and its missionWe are recruiting for policy analysts to work in the budget function: evaluating operating and capital budgets of State agencies, including use of revenue, spending, and performance data to assess the efficiency and effectiveness of State programs. Duties will involve researching policy issues; preparing correspondence and written reports as assigned or in response to legislative requests; and presenting information to legislators, committees, and others in formal and informal settings. Analysts are responsible for specific policy areas (e.g., education, public safety) within their function and through cross-functional policy workgroups. Opportunities for changes in functional assignments and policy areas are available and encouraged throughout an analyst’s career. Manage a policy portfolio of overarching issues under POGO’s mission.\n",
      "Assist in shaping POGO’s short and long term policy goals.\n",
      "Disseminate POGO’s investigative and policy work to Congressional offices, coalitions, listservs, and a wide range of other relevant audiences.\n",
      "Analyze legislative text to determine whether POGO should offer an organizational endorsement or suggestions to improve the language.\n",
      "Write public facing statements of policy positions such as letters to policy makers and Congressional testimony.\n",
      "Work with Congressional staff to draft hearing questions, oversight letters, and legislative text.\n",
      "Draft model legislative language to further POGO’s legislative priorities.\n",
      "Participate in coalition and advocacy efforts, including assisting in the coordination and planning of public and private meetings and events.Handle escalated technical support emails, refunds, and help improve the Tinder experience\n",
      "Investigate bugs and work with Engineering to help them resolve issues\n",
      "Analyze and escalate new user questions, issues, or concerns\n",
      "Collect user feedback on new product and feature rollouts\n",
      "Work closely with the rest of the community team and outsourced support team and engineeringPolicy analysts within the TS Branch are the core source of expertise on matters pertaining to the regulatory and information policies of Federal departments and agencies covered by TS. Policy analysts are responsible for:\n",
      "\n",
      "Coordinating review of regulations and/or regulatory policy to identify significant economic, scientific, and legal issues, with emphasis on regulatory costs and benefits, and alternative regulatory approaches.\n",
      "Reviewing Information Collection Requests pursuant to the Paperwork Reduction Act (PRA) to ensure that agency collections of information meet all of the requirements of the PRA.\n",
      "Developing recommendations for higher-level decision makers.\n",
      "Drafting and presenting succinct written prducts to describe and summarize analyses and recommendations.\n",
      "Reviewing and interpreting pertinent subject-related directives, proposed legislation, and policy documents, to identify expected impacts and conducting analysis and studies of their implications and alternatives.\n",
      "Providing critical feedback and recommendations to OIRA and OMB leadership regarding policy positions on national-level regulatory and information collection strategic directives and policy statements.This position functions as policy analyst in the Legislative Affairs Division and provides assistance to the Chief Legislative Affairs Officer and the Senior Policy Advisor. This position has responsibility for aiding with the planning, developing and coordinating a wide-range of assignments and duties related to legislative and regulatory affairs, providing administrative support to the agency management on policy formulation and implementation, and the potential political and public reaction to the proposed policy. This position is located in the Department of Consumer and Regulatory Affairs (DCRA), Office of the Director. The incumbent serves as a Policy Analyst, whose assignments involve researching policy, coordinating with executive and senior managers for input on policy formulation, drafting legislation, regulations and agency implementation of vital policies, regulations, directives, procedures, etc., as needed to facilitate the attainment of departmental strategic plans, goals, and objectives. The incumbent also provides technical assistance related to the tracking and monitoring of legislation and rulemaking, establishing or amending legislation, writing of required rule making and legislation.This position will provide an aspiring analyst with an exceptional opportunity to demonstrate and develop their skills as part of a small but high-impact and hard-working team. EIG’s Research and Policy Analyst will play an integral role in devising and executing a thought-provoking research agenda that directly informs creative, actionable policy proposals to reinvigorate the dynamism of the U.S. economy. The analyst will be deeply involved in all aspects of creating and communicating research products. Candidates with well-rounded backgrounds in economic development, entrepreneurship, geography, urban studies, and applicable economic and innovation policy areas are encouraged to apply. Direct policy experience in local, state, or federal government is also welcome.\n",
      "\n",
      "The Research and Policy Analyst will perform the following duties (percentages are approximate):\n",
      "\n",
      "40% Quantitative and qualitative economic and public policy research:\n",
      "\n",
      "Draw on a deep knowledge of economic geography and economic development theory, policy, and practice, to bear in informing EIG research and policy products.\n",
      "Utilize various public and private datasets to conduct advanced data and statistical analysis on U.S. economic trends.\n",
      "Conduct literature reviews, stakeholder interviews, policy evaluations, and qualitative research to inform public policy recommendations and practitioner handbooks.\n",
      "Research state and local policies in the realms of entrepreneurship, access to capital, human capital, and other issues.\n",
      "Stay immersed in the scholarly and academic research across all relevant fields to ensure that EIG research and analysis remains on the cutting edge.\n",
      "Manage the processing and development of large flagship EIG datasets such as the Distressed Communities Index.\n",
      "Create new data products in EIG’s core issue areas such as Opportunity Zones, community economic well-being, and entrepreneurship.\n",
      "30% Research and policy writing:\n",
      "\n",
      "Write large sections of marquee EIG reports analyzing both proprietary and publicly available data.\n",
      "Write policy memos, briefs, and handbooks for key audiences that translate data insights into actionable policy recommendations.\n",
      "Independently devise and author incisive short pieces in EIG’s core issue areas.\n",
      "Draft persuasive pieces such as op-eds or essays in EIG’s core issue areas.\n",
      "Synthesize EIG’s research and policy insights into products tailored to different audiences.\n",
      "15% Economic data visualization:\n",
      "\n",
      "Utilize mapping and data visualization software to bring EIG’s data to life.\n",
      "Train in new software and capabilities as needed.\n",
      "15% Outreach and network management:\n",
      "\n",
      "Liaise directly with congressional staff, state government officials, and local government representatives to share EIG data and insights andfeed backinto EIG key issues and concerns facing public leaders.\n",
      "Build and maintain a network of state and local economic development leaders interested in EIG’s work by participating in calls, webinars, and written exchanges sharing EIG’s data and expertise.\n",
      "Present to external audiences on behalf of EIG and represent the organization at conferences and other venues. Respond to stakeholder and media requests for data and information as needed.\n",
      "EIG is committed to offering its team members an unparalleled platform to learn, grow, and build their professional networks. As a high-impact, highly-networked organization, EIG offers successful candidates the opportunity to influence public policy in real time—on behalf of the people, places, and aspiring entrepreneurs that don’t have traditional advocates in Washington.The Political Analyst works with the Deputy National Political Director to provide assessments of campaigns and political trends in U.S. politics and covey these assessments to the relevant stakeholders.\n",
      "\n",
      "Detailed Duties\n",
      "• Track House, Senate and Presidential races, as well as national political trends\n",
      "• Write daily political updates\n",
      "• Produce materials for use in national and regional political briefings\n",
      "• Meet with Congressional candidates\n",
      "• Provide briefings to regional political staff\n",
      "• Maintain contact with national party committees\n",
      "• Other duties as assignedAs an Economic Analyst for the CIA, you will assess foreign economic, trade, and financial interests that affect US security interests. Economists working in regional offices focus on a range of macroeconomic and microeconomic issues facing the country or region they cover, while economists working transnational issues take a broader, global approach to such matters and tend to delve more deeply into technical details. You may also assess illicit financial activities, including terrorist and criminal networks, money laundering, or foreign corruption.As a Military Analyst for the CIA, you will provide US policymakers with analysis of foreign military forces, their structure, capabilities, doctrine and tactics. Military Analysts are also frequently called upon to provide briefings and written analysis to senior military leaders. You will work closely with other Agency analysts and Intelligence Community members to produce timely and accurate all-source analysis.\n",
      "\n",
      "Opportunities exist for foreign and domestic travel, language training, analytic and management training and assignments to other offices in the Agency and throughout the US Government.As a Political Analyst for the CIA, you will support policymakers by producing and delivering written and oral assessments of the domestic politics, foreign policy, stability, and social issues of foreign governments and entities. Your analysis will examine these actors' goals and motivations, culture, values, history, society, decision making processes, and ideologies in the context of how those elements affect US interests and national security.\n",
      "\n",
      "Opportunities exist for foreign and domestic travel, language training, analytic tradecraft and management training, training to deepen substantive expertise, and assignments to other offices in the Agency and throughout the US Government.As a Leadership Analyst for the CIA you will support policymakers by producing and delivering written and oral assessments of foreign leaders and key decision-makers. Your analysis will help US policymakers understand their foreign counterparts by examining worldviews, national ambitions and constraints, and the social context for these leaders.\n",
      "\n",
      "Opportunities exist for foreign and domestic travel, language training, analytic tradecraft and management training, training to deepen substantive expertise, and assignments to other offices in the Agency and throughout the US Government.\n"
     ]
    }
   ],
   "source": [
    "duties = ''\n",
    "for duty in df['Job Duty']:\n",
    "    duties = duty +duties\n",
    "print(duties)"
   ]
  },
  {
   "cell_type": "code",
   "execution_count": 23,
   "metadata": {},
   "outputs": [],
   "source": [
    "import xlwt        \n",
    "\n",
    "from collections import Counter     \n",
    "\n",
    "from nltk.corpus import stopwords\n",
    "\n"
   ]
  },
  {
   "cell_type": "code",
   "execution_count": 24,
   "metadata": {},
   "outputs": [],
   "source": [
    "stop = set(stopwords.words('english'))\n",
    "\n",
    "  \n",
    "\n",
    "book = xlwt.Workbook() # create a new excel file\n",
    "\n",
    "sheet_test = book.add_sheet('duty_count') # add a new sheet\n",
    "\n",
    "i = 0\n",
    "\n",
    "sheet_test.write(i,0,'word') # write the header of the first column\n",
    "\n",
    "sheet_test.write(i,1,'count') # write the header of the second column\n",
    "\n",
    "sheet_test.write(i,2,'ratio') # write the header of the third column"
   ]
  },
  {
   "cell_type": "code",
   "execution_count": 25,
   "metadata": {},
   "outputs": [],
   "source": [
    "word_list = [i for i in duties.lower().split() if i not in stop]\n",
    "\n",
    "word_total = word_list.__len__()\n",
    "\n",
    "\n",
    "\n",
    "count_result =  Counter(word_list)\n",
    "\n",
    "for result in count_result.most_common(20):\n",
    "\n",
    "    i = i+1 \n",
    "\n",
    "    sheet_test.write(i,0,result[0])\n",
    "\n",
    "    sheet_test.write(i,1,result[1])\n",
    "\n",
    "    sheet_test.write(i,2,(result[1]/word_total))\n",
    "\n",
    "    \n",
    "\n",
    "book.save('duties.xls')# define the location of your excel file"
   ]
  },
  {
   "cell_type": "markdown",
   "metadata": {},
   "source": [
    "<img src =\"duties.png\">"
   ]
  },
  {
   "cell_type": "markdown",
   "metadata": {},
   "source": [
    "### Summary\n",
    "\n",
    "The top three duties for the jobs polled was: first 'policy,' second 'program' and third 'analyst.' Policy showed up 59 times in the job duties, which is more than twice the number of occurences as the second most popular word. It makes sense that policy is the number one occuring duty because the majority of jobs were political analyst jobs. It's also interesting that the majority of duties related to a branch of the IC (department, political, foreign, economic, researhc) or level of the American political system (public, state, regulatory). Again, because the jobs are all involved in some aspect with the political sphere, referencing branches or departments that the job is supporting is understandable."
   ]
  },
  {
   "cell_type": "markdown",
   "metadata": {},
   "source": [
    "# Question 2.8"
   ]
  },
  {
   "cell_type": "code",
   "execution_count": 26,
   "metadata": {},
   "outputs": [
    {
     "name": "stdout",
     "output_type": "stream",
     "text": [
      "Superior writing skills with a preference for technical writing expertise (i.e. creation of policies and procedures and/or similar documents).\n",
      "Excellent organizational, project management, and planning skills.\n",
      "Ability to take direction and feedback from multiple stakeholders and exercise good judgment to move work forward.\n",
      "Exceptionally good at collecting large amounts information and synthesizing it into a cohesive, concise work product.\n",
      "Can manage multiple deadlines efficiently and simultaneously.\n",
      "Solid team leader who is able to work well collaboratively on projects and under pressure.\n",
      "High-degree of professionalism with internal and external stakeholders; able to engage with leadership from funding agencies\n",
      "Ability to refine systems and processes with an eye towards the “big picture.”\n",
      "Basic computer knowledge, MS Outlook, Word, PowerPoint and Excel required.\n",
      "Ability to utilize critical thinking skills in decision-making and good independent judgment.BA/BS or any combination of education and experience, which would provide an equivalent background \n",
      "\n",
      "3 - 5 years of experience in business insurance or risk management \n",
      "\n",
      "Insurance carrier or agency experience \n",
      "\n",
      "Strong Analytical Skills \n",
      "\n",
      "Microsoft Office (Word, Outlook, and Excel) \n",
      "\n",
      "Experience reviewing and analyzing claims \n",
      "\n",
      "Preferred \n",
      "\n",
      "P&C and WC Employer Claims management experienceMust Be a U.S. Citizen or National, You must have one (1) year of specialized experience at a level of difficulty and responsibility equivalent to the GS-12 grade level in the Federal service. Specialized experience for this position includes: Experience in all phases of administrating Collection program oversight (e.g., ensuring program goals are met, procedures, studies/projects and sufficient resources) to meet program goals. Technical experience of Campus Compliance processes to assess and evaluate program goals to determine impacts of unforeseen changes to IRS policies to program goals. Experience with exploring and using a wide range of analytical and evaluative methods with the intent to develop new approaches to the existing program or process. Oral communication to convey information to others including top-level management, as well as written communication to prepare comprehensive written reports, disseminate policy information, and document findings and conclusions. Experience providing guidance, serving as a technical program and policy expert and preparing complete decision packages, studies, and recommendations.\n",
      "Experience with planning, organizing, and conducting meetings of membership organizations. Experience with public health policy research, quantitative and qualitative data analyses, data visualization techniques, and presentation of findings and recommendations. Knowledge of Virginia public health policy data, trends, and issues. Demonstrated ability to collect, analyze, interpret, and present public health data. Demonstrated ability to apply analytical results to the development of policy proposals designed to address specific public health issues. Knowledge of federal, state, and local public health policy development structures, processes, and stakeholders. Demonstrated ability to communicate effectively and facilitate meetings with a variety of audiences. Graduation from a college or university with major course work in public health, public policy, public administration, or equivalent experience working in one of those fields. Skills involving data analysis and visualization tools (i.e., SAS, R, ArcGis, Tableau) and a Master's degree in public health, public policy, public administration, or a related field, or equivalent and applicable experience and training. Experience with planning, organizing, and conducting meetings of public bodies.Must provide own transportation. Employment is contingent upon satisfactory results of a state and federal criminal history background check and the Department of Social Service's Child Abuse and Neglect Central Registry check, U.S. HHS IG Exclusion List check, employment reference check, and E-Verify. The selected candidate must complete a Statement of Personal Economic Interests as a condition of employment, if applicable (Va. Code § 2.2-3114). Other financial, credit, driving, or other background checks prior to employment may be required for certain positions.Must have strong writing and communication skills\n",
      "Must have deep knowledge of, and experience conducting, education policy research\n",
      "Must have a strong commitment to individual freedom and small government\n",
      "Degrees in economics, political science, sociology, or public policy preferred\n",
      "An applicant with strong project management, writing, organizational, communication and interpersonal skills. Preference will be given to candidates that demonstrate a deep understanding of housing policy and can demonstrate fluency in scripting language and/or quantitative data analysis programs such as STATA, SAS, Python, SQL databases, and/or R. Preference will also be given to candidates with experience in geospatial analysis and/or data visualization tools like Tableau, Python or R visualization libraries.Open minded to emerging trends in policy making, analysis, and implementation;\n",
      "Trustworthy and credible; is a person of integrity; the ability to be a self-starter;\n",
      "Commitment to inclusive leadership, diversity, empowerment and team member development;\n",
      "A strategic and visionary outlook while being fully engaged in County programs and services;\n",
      "Available and accessible to all levels of an organization while being responsive to all inquiries;\n",
      "Values a culturally and geographically diverse community with the ability to work with various groups and individuals; and\n",
      "Builds meaningful relationships; is collaborative and inclusive while embracing the organizational culture of the department.Must be a U.S. Citizen or National, You must have 1 year of specialized experience at a level of difficulty and responsibility equivalent to the GS-13 grade level in the Federal service. Specialized experience for this position includes: experience that demonstrated the ability to manage multiple assignments that required a wide range of knowledge of management and program oversight; public and/or business administration or public policy; qualitative and quantitative methods; planning policies and procedures; negotiation techniques; and oral and written communications; and a knowledge of computer applications sufficient to prepare written reports, spreadsheets, statistical tables, and flowcharts;   Examples may include assignments where you performed the full range of project management principles, practices, methods, and techniques; conducted analysis of issues broad in nature, and/or of strategic importance; developed new approaches and/or refined existing techniques; and/or developed and implemented policies with broad impact.Have in-depth knowledge of relevant policy areas.\n",
      "1 – 3 years of research and writing experience.\n",
      "Be able to analyze complex policy issues, summarize policy research and effectively communicate to multiple audiences.\n",
      "Works well independently or collaboratively.\n",
      "Be a self-starter and comfortable with a significant amount of autonomy.\n",
      "Have a strong commitment to individual freedom and limited, constitutional government.\n",
      "A master’s degree in economics, statistics, or a related public policy field, or have experience commensurate with a graduate degree is preferred.A law degree or master’s degree and a demonstrated interest in economic, fiscal, or public policy analysis. Excellent writing and oral communication skills. Strong analytical skills, including experience applying statistical, mathematical, and financial concepts through database, spreadsheet, budget, and financial data analysis. Competency with standard computer programs, including word processing, presentation, spreadsheet, and graphing software. GIS experience desirable. Ability to work independently, in teams, and sometimes under extreme time pressures. \n",
      "Availability for extended work hours, including weekend work, during the 90-day legislative session (January – mid-April). More schedule flexibility is available during the legislative interim (May December), particularly in the spring and summer months. Strong interpersonal skills and the ability to work on internal teams, across external organizations, and independently when necessary.\n",
      "Demonstrated commitment to working in a nonpartisan manner with diverse stakeholders and policy makers.\n",
      "Demonstrated track record of taking initiative to solve problems and adapt to changing circumstances.\n",
      "Excellent written and verbal communication skills.\n",
      "Strong understanding of the federal legislative process.Minimum of 1+ years in a similar role\n",
      "Basic knowledge of Zendesk\n",
      "Tech savvy\n",
      "Ability to understand and summarize complex technical cases quickly\n",
      "Superior analytical skills and excellent judgement\n",
      "Ability to multitask, keep up with large volumes of emails in a fast-paced environment\n",
      "Superior time management and prioritization skills\n",
      "Quick learner\n",
      "Team player\n",
      "Extreme attention to details\n",
      "Passion for helping people\n",
      "Ability to use critical thinking and logic to isolate and resolve issues\n",
      "Bachelor degree or higherSPECIALIZED EXPERIENCE: Applicants must have a minimum of one year of specialized experience at a level of difficulty and responsibility comparable to the next lower grade or comparable pay band in the Federal service or equivalent experience in the private sector. Examples of specialized experience are:\n",
      "\n",
      "For the GS-11: I currently hold a GS-11 grade level or comparable pay band in the Federal service or equivalent experience related to the duties listed in this announcement.\n",
      "\n",
      "For the GS-12: I currently hold a GS-12 grade level or comparable pay band in the Federal service or equivalent experience related to the duties listed in this announcement.\n",
      "\n",
      "For the GS-13: I currently hold a GS-13 grade level or comparable pay band in the Federal service or equivalent experience related to the duties listed in this announcement.\n",
      "\n",
      "For the GS-14: I currently hold a GS-14 grade level or comparable pay band in the Federal service or equivalent experience related to the duties listed in this announcement.\n",
      "\n",
      "For the GS-15: I currently hold a GS-15 grade level or comparable pay band in the Federal service or equivalent experience related to the duties listed in this announcement.Candidates must have at least one (1) year of specialized experience equivalent to at least the CS-11 grade level, or its non-District equivalent, gained from the public or private sector. Specialized experience is experience which is in or directly related to the line of work of the position and has equipped the applicant with the particular knowledge, skills, and abilities to successfully perform the duties of the position.\n",
      "\n",
      "OR\n",
      "\n",
      "An equivalent combination of education and experience. Bachelor's degree and a minimum of three (3) years of experience preferred\n",
      "\n",
      "Relevant work experience in research and policy analysis is preferred. Applicant must have the ability to work and effectively communicate with all levels of personnel, display aptitude for learning new systems, and have excellent written and oral communication skills.Master’s degree in relevant field (e.g. public policy, economics, development)\n",
      "3-5 years prior work experience in a related field\n",
      "Demonstrated professional expertise in EIG’s core issue areas (economic and community development, entrepreneurship, innovation, and access to capital)\n",
      "Demonstrated fluency in methods of both quantitative and qualitative analysis\n",
      "Excellent oral and written communication skills\n",
      "Keen attention to detail and demonstrated ability to manage multiple competing priorities in a fast-paced work environment\n",
      "Demonstrated knack for visualizing data and information in a variety of different formats.\n",
      "Demosntrated interest in and familiarity with the policymaking process gained through prior work experience in the federal government, on the Hill, or in state or local government\n",
      "Entrepreneurial spirit and desire to work in a fast-paced startup environment\n",
      "Self-motivated, creative, organized, and deeply committed to personal and organizational excellenceBachelor's degree or commensurate experience preferred\n",
      "• 3-5 years of campaign or political experience\n",
      "• A strong commitment to the US-Israel relationship\n",
      "• Superior writing skills\n",
      "• Strong analytical skills\n",
      "• Excellent time management skills and ability to prioritize tasks\n",
      "• Highly organized and detail oriented\n",
      "• Ability to consume tremendous amounts of information and discern what is most important\n",
      "• Good computer research skills\n",
      "• Proficiency in Microsoft Office Suites including Word, Excel, Outlook and PowerPointInterest in international affairs\n",
      "Awareness of US national security interests\n",
      "Foreign language capability\n",
      "Strong verbal presentation skills\n",
      "Demonstrated ability to write clear, concise text\n",
      "Research experience in international affairs\n",
      "Ability to work in a team environment\n",
      "Interest in a career that requires regular writing assignments\n",
      "A thorough medical and psychological exam\n",
      "A polygraph interview\n",
      "A comprehensive background investigationInterest in international affairs\n",
      "Awareness of US national security interests\n",
      "Foreign language capability\n",
      "Strong verbal presentation skills\n",
      "Demonstrated ability to write clear, concise text\n",
      "Research experience in international affairs\n",
      "Ability to work in a team environment\n",
      "Interest in a career that requires regular writing assignments\n",
      "Previous military experience as a Military Analyst or Foreign Area Specialist/Officer (FAO)\n",
      "Experience in order of battle - data base - development\n",
      "Interest in military historyDeep regional or functional expertise including travel or residency in the region\n",
      "Strong verbal presentation skills\n",
      "Awareness of US national security interests\n",
      "Foreign language capability\n",
      "Proficiency in at least one language pertinent to area expertise\n",
      "Demonstrated ability to write clear, concise text\n",
      "Research experience in international affairs\n",
      "Ability to work in a team environment\n",
      "Interest in a career that requires regular writing assignments                         A thorough medical and psychological exam\n",
      "A polygraph interview\n",
      "A comprehensive background investigationStrong verbal presentation skills\n",
      "Interest in international affairs\n",
      "Awareness of US national security interests\n",
      "Foreign language capability\n",
      "Demonstrated ability to write clear, concise text\n",
      "Ability to work in a team environment\n",
      "Interest in a career that requires regular writing assignments\n",
      "A thorough medical and psychological exam\n",
      "A polygraph interview\n",
      "A comprehensive background investigation\n"
     ]
    }
   ],
   "source": [
    "skills = ''\n",
    "for skill in df['Required Skills']:\n",
    "    skills = skill +skills\n",
    "print(skills)"
   ]
  },
  {
   "cell_type": "code",
   "execution_count": 27,
   "metadata": {},
   "outputs": [],
   "source": [
    "import xlwt        \n",
    "\n",
    "from collections import Counter        \n",
    "\n",
    "from nltk.corpus import stopwords\n",
    "\n",
    "stop = set(stopwords.words('english'))\n",
    "\n",
    "  \n",
    "\n",
    "book = xlwt.Workbook()\n",
    "\n",
    "sheet_test = book.add_sheet('skills_count')\n",
    "\n",
    "i = 0\n",
    "\n",
    "sheet_test.write(i,0,'word')\n",
    "\n",
    "sheet_test.write(i,1,'count')\n",
    "\n",
    "sheet_test.write(i,2,'ratio')"
   ]
  },
  {
   "cell_type": "code",
   "execution_count": 28,
   "metadata": {},
   "outputs": [],
   "source": [
    "word_list = [i for i in skills.lower().split() if i not in stop]\n",
    "\n",
    "word_total = word_list.__len__()\n",
    "\n",
    "\n",
    "\n",
    "count_result =  Counter(word_list)\n",
    "\n",
    "for result in count_result.most_common(20):\n",
    "\n",
    "    i = i+1 \n",
    "\n",
    "    sheet_test.write(i,0,result[0])\n",
    "\n",
    "    sheet_test.write(i,1,result[1])\n",
    "\n",
    "    sheet_test.write(i,2,(result[1]/word_total))\n",
    "\n",
    "    \n",
    "\n",
    "book.save('skills.xls')"
   ]
  },
  {
   "cell_type": "markdown",
   "metadata": {},
   "source": [
    "<img src =\"skills.png\">"
   ]
  },
  {
   "cell_type": "markdown",
   "metadata": {},
   "source": [
    "### Summary\n",
    "\n",
    "The most popular skill word was 'experience' which appeared 44 times in the job postings. The second most popular word was 'ability' with 26 occurances, and then there was a two way tie between 'work' and 'public' for the third most popular word. Overall, the words mostly pertained to the mastery of a skill (ability, level, strong, degree, progessional) or the type of work being done in the job (federal, research, level, grade, public)."
   ]
  },
  {
   "cell_type": "markdown",
   "metadata": {},
   "source": [
    "## Project Conclusion\n",
    "\n",
    "This was an interesting way to utilize different data analysis methods learned this semester in real life situations. It also gave an idea about the different expectations for people entering the work force in the government versus private sector.  \n",
    "#### Improvement\n",
    "If this project was repeated, it could be improved by learning more complex methods to analyze data. For instance, finding how to program vizualizations like a scatter plot with LinReg imposed upon it, instead of each method being seperate. The proposal for this project was more ambitious than what was actually attainable with the given level of introductory skills. Another area od improvement could be comparing more of the categories against each other, for instance, is there a correlation between the location of the job and salary? \n",
    "#### Limitations\n",
    "This project was limited in only looking at 20 analyst jobs from a few job sites, when there are hundreds of jobs online from many more sites. The scope of the analyst jobs was also limited by the researcher's interest in finding Policy jobs with relatively low experience required. The scope of the project could be increased to look at more diverse analyst job types from a greater number of job sites and companies."
   ]
  }
 ],
 "metadata": {
  "kernelspec": {
   "display_name": "Python 3",
   "language": "python",
   "name": "python3"
  },
  "language_info": {
   "codemirror_mode": {
    "name": "ipython",
    "version": 3
   },
   "file_extension": ".py",
   "mimetype": "text/x-python",
   "name": "python",
   "nbconvert_exporter": "python",
   "pygments_lexer": "ipython3",
   "version": "3.6.5"
  }
 },
 "nbformat": 4,
 "nbformat_minor": 2
}
