{
 "cells": [
  {
   "cell_type": "markdown",
   "metadata": {},
   "source": [
    "# Lab 6"
   ]
  },
  {
   "cell_type": "markdown",
   "metadata": {},
   "source": [
    "#### Question 1"
   ]
  },
  {
   "cell_type": "code",
   "execution_count": 1,
   "metadata": {},
   "outputs": [],
   "source": [
    "import xlrd\n",
    "import xlwt\n",
    "import xlutils\n",
    "from urllib import request\n",
    "import json"
   ]
  },
  {
   "cell_type": "markdown",
   "metadata": {},
   "source": [
    "#### Question 2"
   ]
  },
  {
   "cell_type": "code",
   "execution_count": 2,
   "metadata": {},
   "outputs": [],
   "source": [
    "census_api_key = '53f5a53ea49e01dc358d0b435cf21ced59005c13'"
   ]
  },
  {
   "cell_type": "code",
   "execution_count": 3,
   "metadata": {},
   "outputs": [
    {
     "name": "stdout",
     "output_type": "stream",
     "text": [
      "https://api.census.gov/data/2016/acs/acs5?get=B01001_001E,B01001_002E,NAME&for=county:*&in=state:51&key=53f5a53ea49e01dc358d0b435cf21ced59005c13\n"
     ]
    }
   ],
   "source": [
    "url_str = 'https://api.census.gov/data/2016/acs/acs5?get=B01001_001E,B01001_002E,NAME&for=county:*&in=state:51&key='+census_api_key\n",
    "print(url_str)\n",
    "\n",
    "\n",
    "response = request.urlopen(url_str)\n",
    "\n",
    "html_str = response.read().decode(\"utf-8\")"
   ]
  },
  {
   "cell_type": "markdown",
   "metadata": {},
   "source": [
    "#### Question 3"
   ]
  },
  {
   "cell_type": "code",
   "execution_count": 4,
   "metadata": {},
   "outputs": [
    {
     "name": "stdout",
     "output_type": "stream",
     "text": [
      "[[\"B01001_001E\",\"B01001_002E\",\"NAME\",\"state\",\"county\"],\n",
      "[\"33060\",\"16125\",\"Accomack County, Virginia\",\"51\",\"001\"],\n",
      "[\"104287\",\"49946\",\"Albemarle County, Virginia\",\"51\",\"003\"],\n",
      "[\"15919\",\"7788\",\"Alleghany County, Virginia\",\"51\",\"005\"],\n",
      "[\"12793\",\"6642\",\"Amelia County, Virginia\",\"51\",\"007\"],\n",
      "[\"31999\",\"15346\",\"Amherst County, Virginia\",\"51\",\"009\"],\n",
      "[\"15314\",\"7424\",\"Appomattox County, Virginia\",\"51\",\"011\"],\n",
      "[\"226092\",\"112644\",\"Arlington County, Virginia\",\"51\",\"013\"],\n",
      "[\"74330\",\"37572\",\"Augusta County, Virginia\",\"51\",\"015\"],\n",
      "[\"4558\",\"2465\",\"Bath County, Virginia\",\"51\",\"017\"],\n",
      "[\"76933\",\"37888\",\"Bedford County, Virginia\",\"51\",\"019\"],\n",
      "[\"6612\",\"3733\",\"Bland County, Virginia\",\"51\",\"021\"],\n",
      "[\"33192\",\"16425\",\"Botetourt County, Virginia\",\"51\",\"023\"],\n",
      "[\"16573\",\"8668\",\"Brunswick County, Virginia\",\"51\",\"025\"],\n",
      "[\"23158\",\"11673\",\"Buchanan County, Virginia\",\"51\",\"027\"],\n",
      "[\"17030\",\"9453\",\"Buckingham County, Virginia\",\"51\",\"029\"],\n",
      "[\"55061\",\"26745\",\"Campbell County, Virginia\",\"51\",\"031\"],\n",
      "[\"29640\",\"14677\",\"Caroline County, Virginia\",\"51\",\"033\"],\n",
      "[\"29733\",\"14897\",\"Carroll County, Virginia\",\"51\",\"035\"],\n",
      "[\"7086\",\"3456\",\"Charles City County, Virginia\",\"51\",\"036\"],\n",
      "[\"12232\",\"6121\",\"Charlotte County, Virginia\",\"51\",\"037\"],\n",
      "[\"331839\",\"159789\",\"Chesterfield County, Virginia\",\"51\",\"041\"],\n",
      "[\"14307\",\"7087\",\"Clarke County, Virginia\",\"51\",\"043\"],\n",
      "[\"5195\",\"2509\",\"Craig County, Virginia\",\"51\",\"045\"],\n",
      "[\"48952\",\"24612\",\"Culpeper County, Virginia\",\"51\",\"047\"],\n",
      "[\"9769\",\"4779\",\"Cumberland County, Virginia\",\"51\",\"049\"],\n",
      "[\"15304\",\"7814\",\"Dickenson County, Virginia\",\"51\",\"051\"],\n",
      "[\"28155\",\"13903\",\"Dinwiddie County, Virginia\",\"51\",\"053\"],\n",
      "[\"11130\",\"5137\",\"Essex County, Virginia\",\"51\",\"057\"],\n",
      "[\"1132887\",\"560803\",\"Fairfax County, Virginia\",\"51\",\"059\"],\n",
      "[\"68025\",\"33659\",\"Fauquier County, Virginia\",\"51\",\"061\"],\n",
      "[\"15587\",\"7682\",\"Floyd County, Virginia\",\"51\",\"063\"],\n",
      "[\"26046\",\"11826\",\"Fluvanna County, Virginia\",\"51\",\"065\"],\n",
      "[\"56230\",\"27592\",\"Franklin County, Virginia\",\"51\",\"067\"],\n",
      "[\"82321\",\"40925\",\"Frederick County, Virginia\",\"51\",\"069\"],\n",
      "[\"16871\",\"8233\",\"Giles County, Virginia\",\"51\",\"071\"],\n",
      "[\"37021\",\"18267\",\"Gloucester County, Virginia\",\"51\",\"073\"],\n",
      "[\"21979\",\"10791\",\"Goochland County, Virginia\",\"51\",\"075\"],\n",
      "[\"15180\",\"7463\",\"Grayson County, Virginia\",\"51\",\"077\"],\n",
      "[\"19085\",\"9321\",\"Greene County, Virginia\",\"51\",\"079\"],\n",
      "[\"11698\",\"7254\",\"Greensville County, Virginia\",\"51\",\"081\"],\n",
      "[\"35305\",\"16844\",\"Halifax County, Virginia\",\"51\",\"083\"],\n",
      "[\"102199\",\"50104\",\"Hanover County, Virginia\",\"51\",\"085\"],\n",
      "[\"321921\",\"152084\",\"Henrico County, Virginia\",\"51\",\"087\"],\n",
      "[\"52209\",\"25094\",\"Henry County, Virginia\",\"51\",\"089\"],\n",
      "[\"2230\",\"994\",\"Highland County, Virginia\",\"51\",\"091\"],\n",
      "[\"36027\",\"17600\",\"Isle of Wight County, Virginia\",\"51\",\"093\"],\n",
      "[\"71900\",\"34876\",\"James City County, Virginia\",\"51\",\"095\"],\n",
      "[\"7140\",\"3673\",\"King and Queen County, Virginia\",\"51\",\"097\"],\n",
      "[\"25260\",\"12588\",\"King George County, Virginia\",\"51\",\"099\"],\n",
      "[\"16156\",\"8003\",\"King William County, Virginia\",\"51\",\"101\"],\n",
      "[\"11055\",\"5128\",\"Lancaster County, Virginia\",\"51\",\"103\"],\n",
      "[\"24911\",\"13083\",\"Lee County, Virginia\",\"51\",\"105\"],\n",
      "[\"362435\",\"179315\",\"Loudoun County, Virginia\",\"51\",\"107\"],\n",
      "[\"34350\",\"16874\",\"Louisa County, Virginia\",\"51\",\"109\"],\n",
      "[\"12450\",\"6498\",\"Lunenburg County, Virginia\",\"51\",\"111\"],\n",
      "[\"13122\",\"6410\",\"Madison County, Virginia\",\"51\",\"113\"],\n",
      "[\"8848\",\"4144\",\"Mathews County, Virginia\",\"51\",\"115\"],\n",
      "[\"31209\",\"15133\",\"Mecklenburg County, Virginia\",\"51\",\"117\"],\n",
      "[\"10728\",\"5295\",\"Middlesex County, Virginia\",\"51\",\"119\"],\n",
      "[\"97227\",\"50364\",\"Montgomery County, Virginia\",\"51\",\"121\"],\n",
      "[\"14831\",\"7171\",\"Nelson County, Virginia\",\"51\",\"125\"],\n",
      "[\"20051\",\"10215\",\"New Kent County, Virginia\",\"51\",\"127\"],\n",
      "[\"12118\",\"5772\",\"Northampton County, Virginia\",\"51\",\"131\"],\n",
      "[\"12272\",\"5966\",\"Northumberland County, Virginia\",\"51\",\"133\"],\n",
      "[\"15641\",\"8483\",\"Nottoway County, Virginia\",\"51\",\"135\"],\n",
      "[\"34873\",\"17110\",\"Orange County, Virginia\",\"51\",\"137\"],\n",
      "[\"23759\",\"11636\",\"Page County, Virginia\",\"51\",\"139\"],\n",
      "[\"18180\",\"8967\",\"Patrick County, Virginia\",\"51\",\"141\"],\n",
      "[\"62392\",\"30667\",\"Pittsylvania County, Virginia\",\"51\",\"143\"],\n",
      "[\"28286\",\"15198\",\"Powhatan County, Virginia\",\"51\",\"145\"],\n",
      "[\"23077\",\"11532\",\"Prince Edward County, Virginia\",\"51\",\"147\"],\n",
      "[\"37664\",\"20615\",\"Prince George County, Virginia\",\"51\",\"149\"],\n",
      "[\"443630\",\"220996\",\"Prince William County, Virginia\",\"51\",\"153\"],\n",
      "[\"34417\",\"17147\",\"Pulaski County, Virginia\",\"51\",\"155\"],\n",
      "[\"7416\",\"3643\",\"Rappahannock County, Virginia\",\"51\",\"157\"],\n",
      "[\"8868\",\"4960\",\"Richmond County, Virginia\",\"51\",\"159\"],\n",
      "[\"93655\",\"44946\",\"Roanoke County, Virginia\",\"51\",\"161\"],\n",
      "[\"22450\",\"11150\",\"Rockbridge County, Virginia\",\"51\",\"163\"],\n",
      "[\"78427\",\"38501\",\"Rockingham County, Virginia\",\"51\",\"165\"],\n",
      "[\"27973\",\"13693\",\"Russell County, Virginia\",\"51\",\"167\"],\n",
      "[\"22378\",\"11259\",\"Scott County, Virginia\",\"51\",\"169\"],\n",
      "[\"42857\",\"20972\",\"Shenandoah County, Virginia\",\"51\",\"171\"],\n",
      "[\"31513\",\"15623\",\"Smyth County, Virginia\",\"51\",\"173\"],\n",
      "[\"18291\",\"9555\",\"Southampton County, Virginia\",\"51\",\"175\"],\n",
      "[\"129181\",\"63429\",\"Spotsylvania County, Virginia\",\"51\",\"177\"],\n",
      "[\"139548\",\"70245\",\"Stafford County, Virginia\",\"51\",\"179\"],\n",
      "[\"6731\",\"3317\",\"Surry County, Virginia\",\"51\",\"181\"],\n",
      "[\"11733\",\"7715\",\"Sussex County, Virginia\",\"51\",\"183\"],\n",
      "[\"43367\",\"21489\",\"Tazewell County, Virginia\",\"51\",\"185\"],\n",
      "[\"38807\",\"19357\",\"Warren County, Virginia\",\"51\",\"187\"],\n",
      "[\"54562\",\"27008\",\"Washington County, Virginia\",\"51\",\"191\"],\n",
      "[\"17528\",\"8640\",\"Westmoreland County, Virginia\",\"51\",\"193\"],\n",
      "[\"40074\",\"20706\",\"Wise County, Virginia\",\"51\",\"195\"],\n",
      "[\"29171\",\"14234\",\"Wythe County, Virginia\",\"51\",\"197\"],\n",
      "[\"66919\",\"32825\",\"York County, Virginia\",\"51\",\"199\"],\n",
      "[\"151473\",\"73054\",\"Alexandria city, Virginia\",\"51\",\"510\"],\n",
      "[\"17340\",\"8084\",\"Bristol city, Virginia\",\"51\",\"520\"],\n",
      "[\"6610\",\"2916\",\"Buena Vista city, Virginia\",\"51\",\"530\"],\n",
      "[\"45538\",\"22057\",\"Charlottesville city, Virginia\",\"51\",\"540\"],\n",
      "[\"233194\",\"113888\",\"Chesapeake city, Virginia\",\"51\",\"550\"],\n",
      "[\"17554\",\"8068\",\"Colonial Heights city, Virginia\",\"51\",\"570\"],\n",
      "[\"5650\",\"2903\",\"Covington city, Virginia\",\"51\",\"580\"],\n",
      "[\"42360\",\"19379\",\"Danville city, Virginia\",\"51\",\"590\"],\n",
      "[\"5565\",\"2564\",\"Emporia city, Virginia\",\"51\",\"595\"],\n",
      "[\"23620\",\"11626\",\"Fairfax city, Virginia\",\"51\",\"600\"],\n",
      "[\"13597\",\"6577\",\"Falls Church city, Virginia\",\"51\",\"610\"],\n",
      "[\"8413\",\"3699\",\"Franklin city, Virginia\",\"51\",\"620\"],\n",
      "[\"27853\",\"13066\",\"Fredericksburg city, Virginia\",\"51\",\"630\"],\n",
      "[\"6858\",\"3290\",\"Galax city, Virginia\",\"51\",\"640\"],\n",
      "[\"136789\",\"65983\",\"Hampton city, Virginia\",\"51\",\"650\"],\n",
      "[\"51979\",\"24857\",\"Harrisonburg city, Virginia\",\"51\",\"660\"],\n",
      "[\"22332\",\"10383\",\"Hopewell city, Virginia\",\"51\",\"670\"],\n",
      "[\"7036\",\"3979\",\"Lexington city, Virginia\",\"51\",\"678\"],\n",
      "[\"78755\",\"36987\",\"Lynchburg city, Virginia\",\"51\",\"680\"],\n",
      "[\"41149\",\"20455\",\"Manassas city, Virginia\",\"51\",\"683\"],\n",
      "[\"15827\",\"8387\",\"Manassas Park city, Virginia\",\"51\",\"685\"],\n",
      "[\"13551\",\"6225\",\"Martinsville city, Virginia\",\"51\",\"690\"],\n",
      "[\"181606\",\"88071\",\"Newport News city, Virginia\",\"51\",\"700\"],\n",
      "[\"245724\",\"128011\",\"Norfolk city, Virginia\",\"51\",\"710\"],\n",
      "[\"3978\",\"1763\",\"Norton city, Virginia\",\"51\",\"720\"],\n",
      "[\"31997\",\"14709\",\"Petersburg city, Virginia\",\"51\",\"730\"],\n",
      "[\"12068\",\"5912\",\"Poquoson city, Virginia\",\"51\",\"735\"],\n",
      "[\"96071\",\"46306\",\"Portsmouth city, Virginia\",\"51\",\"740\"],\n",
      "[\"17186\",\"8544\",\"Radford city, Virginia\",\"51\",\"750\"],\n",
      "[\"216773\",\"102936\",\"Richmond city, Virginia\",\"51\",\"760\"],\n",
      "[\"99329\",\"47524\",\"Roanoke city, Virginia\",\"51\",\"770\"],\n",
      "[\"25290\",\"11904\",\"Salem city, Virginia\",\"51\",\"775\"],\n",
      "[\"24234\",\"10937\",\"Staunton city, Virginia\",\"51\",\"790\"],\n",
      "[\"87061\",\"42144\",\"Suffolk city, Virginia\",\"51\",\"800\"],\n",
      "[\"449733\",\"221023\",\"Virginia Beach city, Virginia\",\"51\",\"810\"],\n",
      "[\"21366\",\"10205\",\"Waynesboro city, Virginia\",\"51\",\"820\"],\n",
      "[\"14988\",\"6532\",\"Williamsburg city, Virginia\",\"51\",\"830\"],\n",
      "[\"27349\",\"13355\",\"Winchester city, Virginia\",\"51\",\"840\"]]\n"
     ]
    }
   ],
   "source": [
    "print(html_str)"
   ]
  },
  {
   "cell_type": "code",
   "execution_count": 5,
   "metadata": {},
   "outputs": [],
   "source": [
    "book = xlwt.Workbook()\n",
    "\n",
    "sheet = book.add_sheet('va_pop')\n",
    "i = 0\n",
    "if html_str:\n",
    "    json_data = json.loads(html_str)\n",
    "    for record in json_data:\n",
    "        total_pop,male_pop,name,state,count_num=record\n",
    "        sheet.write(i,0,total_pop)\n",
    "        sheet.write(i,1,male_pop)\n",
    "        i +=1\n",
    "book.save('census.xls')\n",
    "        "
   ]
  },
  {
   "cell_type": "markdown",
   "metadata": {},
   "source": [
    "#### Question 4"
   ]
  },
  {
   "cell_type": "code",
   "execution_count": 6,
   "metadata": {},
   "outputs": [
    {
     "name": "stdout",
     "output_type": "stream",
     "text": [
      "['B01001_001E', 'B01001_002E']\n",
      "['33060', '16125']\n",
      "['104287', '49946']\n",
      "['15919', '7788']\n",
      "['12793', '6642']\n",
      "['31999', '15346']\n",
      "['15314', '7424']\n",
      "['226092', '112644']\n",
      "['74330', '37572']\n",
      "['4558', '2465']\n"
     ]
    }
   ],
   "source": [
    "import xlrd \n",
    "book = xlrd.open_workbook('census.xls')\n",
    "my_sheet = book.sheet_by_name(\"va_pop\")\n",
    "for i in range(10):\n",
    "    row = my_sheet.row_values(i)\n",
    "    print(row)"
   ]
  },
  {
   "cell_type": "markdown",
   "metadata": {},
   "source": [
    "#### Question 5"
   ]
  },
  {
   "cell_type": "code",
   "execution_count": 7,
   "metadata": {},
   "outputs": [],
   "source": [
    "import xlrd \n",
    "from xlutils.copy import copy\n",
    "reading_book = xlrd.open_workbook('census.xls')\n",
    "sheet_read = reading_book.sheet_by_name(\"va_pop\")\n",
    "\n",
    "num_record = sheet_read.nrows\n",
    "\n",
    "writing_book = copy(reading_book)\n",
    "\n",
    "sheet_write = writing_book.get_sheet(0)\n",
    "\n",
    "for i in range(num_record):\n",
    "    row = sheet_read.row_values(i)\n",
    "    B01001_001E,B01001_002E=row\n",
    "    \n",
    "    if i == 0:\n",
    "        sheet_write.write(0,2,'ratio')\n",
    "    \n",
    "    else:\n",
    "        sheet_write.write(i,2,int(row[1])/int(row[0]))\n",
    "    \n",
    "writing_book.save('census.xls')"
   ]
  },
  {
   "cell_type": "markdown",
   "metadata": {},
   "source": [
    "#### Question 6"
   ]
  },
  {
   "cell_type": "code",
   "execution_count": 9,
   "metadata": {},
   "outputs": [
    {
     "name": "stdout",
     "output_type": "stream",
     "text": [
      "['B01001_001E', 'B01001_002E', 'male/total ratio']\n",
      "['33060', '16125', 0.48774954627949185]\n",
      "['104287', '49946', 0.4789283419793455]\n",
      "['15919', '7788', 0.48922671022049125]\n",
      "['12793', '6642', 0.5191901821308528]\n",
      "['31999', '15346', 0.4795774867964624]\n",
      "['15314', '7424', 0.48478516390231163]\n",
      "['226092', '112644', 0.4982219627408312]\n",
      "['74330', '37572', 0.5054755818646576]\n",
      "['4558', '2465', 0.5408073716542343]\n"
     ]
    }
   ],
   "source": [
    "import xlrd \n",
    "book = xlrd.open_workbook('census.xls')\n",
    "my_sheet = book.sheet_by_name(\"va_pop\")\n",
    "for i in range(10):\n",
    "    row = my_sheet.row_values(i)\n",
    "    print(row)"
   ]
  }
 ],
 "metadata": {
  "kernelspec": {
   "display_name": "Python 3",
   "language": "python",
   "name": "python3"
  },
  "language_info": {
   "codemirror_mode": {
    "name": "ipython",
    "version": 3
   },
   "file_extension": ".py",
   "mimetype": "text/x-python",
   "name": "python",
   "nbconvert_exporter": "python",
   "pygments_lexer": "ipython3",
   "version": "3.6.5"
  }
 },
 "nbformat": 4,
 "nbformat_minor": 2
}
