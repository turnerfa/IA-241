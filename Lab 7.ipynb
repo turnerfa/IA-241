{
 "cells": [
  {
   "cell_type": "markdown",
   "metadata": {},
   "source": [
    "# Q1\n",
    "\n",
    "Company: RAND\n",
    "Description: Policy/Defense Analyst\n",
    "\n",
    "[job website](https://jobs.rand.org/psc/erprod/EMPLOYEE/HRMS/c/HRS_HRAM.HRS_CE.GBL?Page=HRS_CE_JOB_DTL&Action=A&JobOpeningId=5442&SiteId=1000&PostingSeq=1&source=Indeed+(Organic)"
   ]
  },
  {
   "cell_type": "markdown",
   "metadata": {},
   "source": [
    "# Q2"
   ]
  },
  {
   "cell_type": "code",
   "execution_count": 1,
   "metadata": {},
   "outputs": [],
   "source": [
    "job = open(\"Job.txt\", 'r')\n",
    "from collections import Counter "
   ]
  },
  {
   "cell_type": "code",
   "execution_count": 2,
   "metadata": {},
   "outputs": [
    {
     "name": "stdout",
     "output_type": "stream",
     "text": [
      "and 29\n",
      "to 12\n",
      "of 9\n",
      "RAND 7\n",
      "a 7\n",
      "the 7\n",
      "in 7\n",
      "research 5\n",
      "or 5\n",
      "that 4\n"
     ]
    }
   ],
   "source": [
    "with open('Job.txt', 'r') as job:\n",
    "    count_result = Counter(job.read().split())\n",
    "    for word,count in count_result.most_common(10):\n",
    "        print (word,count)"
   ]
  },
  {
   "cell_type": "markdown",
   "metadata": {},
   "source": [
    "# Q3"
   ]
  },
  {
   "cell_type": "code",
   "execution_count": 3,
   "metadata": {},
   "outputs": [],
   "source": [
    "import xlwt \n",
    "mybook = xlwt.Workbook()\n",
    "sheet = mybook.add_sheet('word_count')\n",
    "i = 0\n",
    "sheet.write(0,0,'word')\n",
    "sheet.write(0,1,'count')\n",
    "\n",
    "with open ('Job.txt','r') as job:\n",
    "    job_list = job.read().split()\n",
    "    count_result = Counter(job_list)\n",
    "    for word, count in count_result.most_common(20):\n",
    "        if i>0:\n",
    "            sheet.write(i,0,word)\n",
    "            sheet.write(i,1,count)\n",
    "        i=i+1\n",
    "mybook.save('word_count.xls')"
   ]
  },
  {
   "cell_type": "markdown",
   "metadata": {},
   "source": [
    "# Q4"
   ]
  },
  {
   "cell_type": "code",
   "execution_count": 4,
   "metadata": {},
   "outputs": [],
   "source": [
    "import xlrd "
   ]
  },
  {
   "cell_type": "code",
   "execution_count": 5,
   "metadata": {},
   "outputs": [
    {
     "name": "stdout",
     "output_type": "stream",
     "text": [
      "['word', 'count']\n",
      "['to', 12.0]\n",
      "['of', 9.0]\n",
      "['RAND', 7.0]\n",
      "['a', 7.0]\n",
      "['the', 7.0]\n",
      "['in', 7.0]\n",
      "['research', 5.0]\n",
      "['or', 5.0]\n",
      "['that', 4.0]\n",
      "['policy', 4.0]\n",
      "['is', 3.0]\n",
      "['public', 3.0]\n",
      "['more', 3.0]\n",
      "['international', 3.0]\n",
      "['on', 3.0]\n",
      "['homeland', 3.0]\n",
      "['security', 3.0]\n",
      "['ability', 3.0]\n",
      "['Security', 2.0]\n"
     ]
    }
   ],
   "source": [
    "book = xlrd.open_workbook('word_count.xls')\n",
    "my_sheet = book.sheet_by_name(\"word_count\")\n",
    "for i in range(20):\n",
    "    row = my_sheet.row_values(i)\n",
    "    print(row)"
   ]
  },
  {
   "cell_type": "markdown",
   "metadata": {},
   "source": [
    "# Q5"
   ]
  },
  {
   "cell_type": "markdown",
   "metadata": {},
   "source": [
    "<img src = 'wordcloud.png'>"
   ]
  },
  {
   "cell_type": "code",
   "execution_count": null,
   "metadata": {},
   "outputs": [],
   "source": []
  }
 ],
 "metadata": {
  "kernelspec": {
   "display_name": "Python 3",
   "language": "python",
   "name": "python3"
  },
  "language_info": {
   "codemirror_mode": {
    "name": "ipython",
    "version": 3
   },
   "file_extension": ".py",
   "mimetype": "text/x-python",
   "name": "python",
   "nbconvert_exporter": "python",
   "pygments_lexer": "ipython3",
   "version": "3.6.5"
  }
 },
 "nbformat": 4,
 "nbformat_minor": 2
}
